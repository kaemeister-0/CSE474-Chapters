{
  "nbformat": 4,
  "nbformat_minor": 0,
  "metadata": {
    "colab": {
      "provenance": []
    },
    "kernelspec": {
      "name": "python3",
      "display_name": "Python 3"
    },
    "language_info": {
      "name": "python"
    }
  },
  "cells": [
    {
      "cell_type": "code",
      "execution_count": 1,
      "metadata": {
        "colab": {
          "base_uri": "https://localhost:8080/"
        },
        "id": "9GSfnP3IJaFr",
        "outputId": "dae6a269-64c6-4d71-b150-bae36eaee9e0"
      },
      "outputs": [
        {
          "output_type": "stream",
          "name": "stdout",
          "text": [
            "Collecting simpy\n",
            "  Downloading simpy-4.1.1-py3-none-any.whl (27 kB)\n",
            "Installing collected packages: simpy\n",
            "Successfully installed simpy-4.1.1\n"
          ]
        }
      ],
      "source": [
        "pip install simpy"
      ]
    },
    {
      "cell_type": "code",
      "source": [
        "import simpy\n",
        "import random"
      ],
      "metadata": {
        "id": "vC7wur_uJzRF"
      },
      "execution_count": 2,
      "outputs": []
    },
    {
      "cell_type": "code",
      "source": [
        "class BankCustomer:\n",
        "    def __init__(self, env, name, arrival_time, service_time, teller):\n",
        "        self.env = env\n",
        "        self.name = name\n",
        "        self.arrival_time = arrival_time\n",
        "        self.service_time = service_time\n",
        "        self.teller = teller\n",
        "\n",
        "    def process(self):\n",
        "        yield self.env.timeout(self.arrival_time)\n",
        "        print(f\"{self.env.now:.2f} - Customer {self.name} arrives at the bank.\")\n",
        "\n",
        "        with self.teller.request() as req:\n",
        "            yield req\n",
        "            print(f\"{self.env.now:.2f} - Customer {self.name} starts being served.\")\n",
        "            yield self.env.timeout(self.service_time)\n",
        "            print(f\"{self.env.now:.2f} - Customer {self.name} finishes and leaves the bank.\")\n",
        "\n",
        "def bank_simulation(env, num_tellers, num_customers):\n",
        "    teller = simpy.Resource(env, capacity=num_tellers)\n",
        "\n",
        "    for i in range(num_customers):\n",
        "        arrival_time = random.expovariate(1.0)  # Exponential distribution for arrival times\n",
        "        service_time = random.uniform(5, 15)  # Uniform distribution for service times\n",
        "        customer = BankCustomer(env, f\"{i + 1}\", arrival_time, service_time, teller)\n",
        "        env.process(customer.process())\n",
        "\n",
        "    env.run()\n",
        "\n",
        "def main():\n",
        "    random.seed(42)\n",
        "    env = simpy.Environment()\n",
        "    num_tellers = 2\n",
        "    num_customers = 10\n",
        "\n",
        "    print(\"Bank Simulation\\n\")\n",
        "    bank_simulation(env, num_tellers, num_customers)\n",
        "\n",
        "if __name__ == \"__main__\":\n",
        "    main()"
      ],
      "metadata": {
        "colab": {
          "base_uri": "https://localhost:8080/"
        },
        "id": "_cBbXZ8JKCtU",
        "outputId": "776d4f15-b19d-48a2-ba3b-e3dcb63f2478"
      },
      "execution_count": 3,
      "outputs": [
        {
          "output_type": "stream",
          "name": "stdout",
          "text": [
            "Bank Simulation\n",
            "\n",
            "0.03 - Customer 7 arrives at the bank.\n",
            "0.03 - Customer 7 starts being served.\n",
            "0.25 - Customer 6 arrives at the bank.\n",
            "0.25 - Customer 6 starts being served.\n",
            "0.25 - Customer 9 arrives at the bank.\n",
            "0.32 - Customer 2 arrives at the bank.\n",
            "0.55 - Customer 5 arrives at the bank.\n",
            "1.02 - Customer 1 arrives at the bank.\n",
            "1.05 - Customer 8 arrives at the bank.\n",
            "1.33 - Customer 3 arrives at the bank.\n",
            "1.66 - Customer 10 arrives at the bank.\n",
            "2.23 - Customer 4 arrives at the bank.\n",
            "7.02 - Customer 7 finishes and leaves the bank.\n",
            "7.02 - Customer 9 starts being served.\n",
            "10.30 - Customer 6 finishes and leaves the bank.\n",
            "10.30 - Customer 2 starts being served.\n",
            "17.53 - Customer 2 finishes and leaves the bank.\n",
            "17.53 - Customer 5 starts being served.\n",
            "17.91 - Customer 9 finishes and leaves the bank.\n",
            "17.91 - Customer 1 starts being served.\n",
            "22.83 - Customer 5 finishes and leaves the bank.\n",
            "22.83 - Customer 8 starts being served.\n",
            "23.16 - Customer 1 finishes and leaves the bank.\n",
            "23.16 - Customer 3 starts being served.\n",
            "33.28 - Customer 8 finishes and leaves the bank.\n",
            "33.28 - Customer 10 starts being served.\n",
            "34.93 - Customer 3 finishes and leaves the bank.\n",
            "34.93 - Customer 4 starts being served.\n",
            "38.34 - Customer 10 finishes and leaves the bank.\n",
            "40.79 - Customer 4 finishes and leaves the bank.\n"
          ]
        }
      ]
    }
  ]
}