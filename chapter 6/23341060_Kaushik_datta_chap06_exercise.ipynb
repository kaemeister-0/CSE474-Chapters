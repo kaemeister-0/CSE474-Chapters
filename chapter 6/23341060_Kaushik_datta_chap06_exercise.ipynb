{
  "cells": [
    {
      "cell_type": "markdown",
      "id": "creative-motel",
      "metadata": {
        "id": "creative-motel"
      },
      "source": [
        "# Proportional Growth"
      ]
    },
    {
      "cell_type": "code",
      "execution_count": 1,
      "id": "electoral-turkey",
      "metadata": {
        "tags": [
          "remove-cell"
        ],
        "colab": {
          "base_uri": "https://localhost:8080/"
        },
        "id": "electoral-turkey",
        "outputId": "7931e05e-32be-4c13-ea3a-7936c1dd8d09"
      },
      "outputs": [
        {
          "output_type": "stream",
          "name": "stdout",
          "text": [
            "Collecting pint\n",
            "  Downloading Pint-0.23-py3-none-any.whl (305 kB)\n",
            "\u001b[2K     \u001b[90m━━━━━━━━━━━━━━━━━━━━━━━━━━━━━━━━━━━━━━━━\u001b[0m \u001b[32m305.0/305.0 kB\u001b[0m \u001b[31m6.9 MB/s\u001b[0m eta \u001b[36m0:00:00\u001b[0m\n",
            "\u001b[?25hRequirement already satisfied: typing-extensions in /usr/local/lib/python3.10/dist-packages (from pint) (4.5.0)\n",
            "Installing collected packages: pint\n",
            "Successfully installed pint-0.23\n"
          ]
        }
      ],
      "source": [
        "# install Pint if necessary\n",
        "\n",
        "try:\n",
        "    import pint\n",
        "except ImportError:\n",
        "    !pip install pint"
      ]
    },
    {
      "cell_type": "code",
      "execution_count": 2,
      "id": "formal-context",
      "metadata": {
        "tags": [
          "remove-cell"
        ],
        "colab": {
          "base_uri": "https://localhost:8080/"
        },
        "id": "formal-context",
        "outputId": "b2abccb2-ee45-4b84-bb59-1b4e8d90ea0e"
      },
      "outputs": [
        {
          "output_type": "stream",
          "name": "stdout",
          "text": [
            "Downloaded modsim.py\n"
          ]
        }
      ],
      "source": [
        "# download modsim.py if necessary\n",
        "\n",
        "from os.path import basename, exists\n",
        "\n",
        "def download(url):\n",
        "    filename = basename(url)\n",
        "    if not exists(filename):\n",
        "        from urllib.request import urlretrieve\n",
        "        local, _ = urlretrieve(url, filename)\n",
        "        print('Downloaded ' + local)\n",
        "\n",
        "download('https://raw.githubusercontent.com/AllenDowney/' +\n",
        "         'ModSimPy/master/modsim.py')"
      ]
    },
    {
      "cell_type": "code",
      "execution_count": 3,
      "id": "progressive-typing",
      "metadata": {
        "tags": [
          "remove-cell"
        ],
        "id": "progressive-typing"
      },
      "outputs": [],
      "source": [
        "# import functions from modsim\n",
        "\n",
        "from modsim import *"
      ]
    },
    {
      "cell_type": "markdown",
      "id": "375794f9",
      "metadata": {
        "id": "375794f9"
      },
      "source": [
        "This chapter is available as a Jupyter notebook where you can read the text, run the code, and work on the exercises.\n",
        "Click here to access the notebooks: <https://allendowney.github.io/ModSimPy/>."
      ]
    },
    {
      "cell_type": "markdown",
      "id": "amber-contrary",
      "metadata": {
        "tags": [
          "remove-cell"
        ],
        "id": "amber-contrary"
      },
      "source": [
        "Here's the data from the previous chapter again."
      ]
    },
    {
      "cell_type": "code",
      "execution_count": 4,
      "id": "critical-addition",
      "metadata": {
        "tags": [
          "remove-cell"
        ],
        "colab": {
          "base_uri": "https://localhost:8080/"
        },
        "id": "critical-addition",
        "outputId": "bfcd9d83-7bf7-44a0-9292-cfd4b86ea732"
      },
      "outputs": [
        {
          "output_type": "stream",
          "name": "stdout",
          "text": [
            "Downloaded World_population_estimates.html\n"
          ]
        }
      ],
      "source": [
        "download('https://raw.githubusercontent.com/AllenDowney/' +\n",
        "         'ModSimPy/master/data/World_population_estimates.html')"
      ]
    },
    {
      "cell_type": "code",
      "execution_count": 5,
      "id": "naughty-swing",
      "metadata": {
        "tags": [
          "remove-cell"
        ],
        "id": "naughty-swing"
      },
      "outputs": [],
      "source": [
        "from pandas import read_html\n",
        "\n",
        "filename = 'World_population_estimates.html'\n",
        "tables = read_html(filename, header=0, index_col=0, decimal='M')\n",
        "table2 = tables[2]\n",
        "table2.columns = ['census', 'prb', 'un', 'maddison',\n",
        "                  'hyde', 'tanton', 'biraben', 'mj',\n",
        "                  'thomlinson', 'durand', 'clark']"
      ]
    },
    {
      "cell_type": "markdown",
      "id": "quality-spectrum",
      "metadata": {
        "id": "quality-spectrum"
      },
      "source": [
        "In the previous chapter we simulated a model of world population with\n",
        "constant growth. In this chapter we'll see if we can make a better model\n",
        "with growth proportional to the population.\n",
        "\n",
        "But first, we'll improve the code from the previous chapter by\n",
        "encapsulating it in a function and adding a new feature, a `System` object."
      ]
    },
    {
      "cell_type": "markdown",
      "id": "therapeutic-merchant",
      "metadata": {
        "id": "therapeutic-merchant"
      },
      "source": [
        "## System Objects\n",
        "\n",
        "Like a `State` object, a `System` object contains variables and their\n",
        "values. The difference is:\n",
        "\n",
        "-   `State` objects contain state variables that get updated in the course of a simulation.\n",
        "\n",
        "-   `System` objects contain *system parameters*, which usually don't get updated over the course of a simulation.\n",
        "\n",
        "For example, in the bike share model, state variables include the number of bikes at each location, which get updated whenever a customer moves a bike. System parameters include the number of locations, total number of bikes, and arrival rates at each location.\n",
        "\n",
        "In the population model, the only state variable is the population.\n",
        "System parameters include the annual growth rate, the initial population, and the start and end times.\n",
        "\n",
        "Suppose we have the following variables, as computed in the previous\n",
        "chapter (assuming `table2` is the `DataFrame` we read from the file):"
      ]
    },
    {
      "cell_type": "code",
      "execution_count": 6,
      "id": "numerous-university",
      "metadata": {
        "id": "numerous-university"
      },
      "outputs": [],
      "source": [
        "un = table2.un / 1e9\n",
        "census = table2.census / 1e9\n",
        "\n",
        "t_0 = census.index[0]\n",
        "t_end = census.index[-1]\n",
        "elapsed_time = t_end - t_0\n",
        "\n",
        "p_0 = census[t_0]\n",
        "p_end = census[t_end]\n",
        "\n",
        "total_growth = p_end - p_0\n",
        "annual_growth = total_growth / elapsed_time"
      ]
    },
    {
      "cell_type": "markdown",
      "id": "starting-cooling",
      "metadata": {
        "id": "starting-cooling"
      },
      "source": [
        "Some of these are parameters we need to simulate the system; others are temporary values we can discard.\n",
        "To distinguish between them, we'll put the parameters we need in a `System` object like this:"
      ]
    },
    {
      "cell_type": "code",
      "execution_count": 7,
      "id": "colonial-domestic",
      "metadata": {
        "id": "colonial-domestic"
      },
      "outputs": [],
      "source": [
        "system = System(t_0=t_0,\n",
        "                t_end=t_end,\n",
        "                p_0=p_0,\n",
        "                annual_growth=annual_growth)"
      ]
    },
    {
      "cell_type": "markdown",
      "id": "fleet-beaver",
      "metadata": {
        "id": "fleet-beaver"
      },
      "source": [
        "`t0` and `t_end` are the first and last years; `p_0` is the initial\n",
        "population, and `annual_growth` is the estimated annual growth.\n",
        "\n",
        "The assignment `t_0=t_0` reads the value of the existing variable named `t_0`, which we created previously, and stores it in a new system variable, also named `t_0`.\n",
        "The variables inside the `System` object are distinct from other variables, so you can change one without affecting the other, even if they have the same name.\n",
        "\n",
        "So this `System` object contains four new variables; here's what they look like."
      ]
    },
    {
      "cell_type": "code",
      "execution_count": 8,
      "id": "floral-routine",
      "metadata": {
        "colab": {
          "base_uri": "https://localhost:8080/",
          "height": 175
        },
        "id": "floral-routine",
        "outputId": "8d443619-58f2-4696-a9ae-5e3121929fb3"
      },
      "outputs": [
        {
          "output_type": "execute_result",
          "data": {
            "text/plain": [
              "                     value\n",
              "t_0            1950.000000\n",
              "t_end          2016.000000\n",
              "p_0               2.557629\n",
              "annual_growth     0.072248"
            ],
            "text/html": [
              "\n",
              "  <div id=\"df-d7eece63-bbc2-40fd-be9f-93b587643d7d\" class=\"colab-df-container\">\n",
              "    <div>\n",
              "<style scoped>\n",
              "    .dataframe tbody tr th:only-of-type {\n",
              "        vertical-align: middle;\n",
              "    }\n",
              "\n",
              "    .dataframe tbody tr th {\n",
              "        vertical-align: top;\n",
              "    }\n",
              "\n",
              "    .dataframe thead th {\n",
              "        text-align: right;\n",
              "    }\n",
              "</style>\n",
              "<table border=\"1\" class=\"dataframe\">\n",
              "  <thead>\n",
              "    <tr style=\"text-align: right;\">\n",
              "      <th></th>\n",
              "      <th>value</th>\n",
              "    </tr>\n",
              "  </thead>\n",
              "  <tbody>\n",
              "    <tr>\n",
              "      <th>t_0</th>\n",
              "      <td>1950.000000</td>\n",
              "    </tr>\n",
              "    <tr>\n",
              "      <th>t_end</th>\n",
              "      <td>2016.000000</td>\n",
              "    </tr>\n",
              "    <tr>\n",
              "      <th>p_0</th>\n",
              "      <td>2.557629</td>\n",
              "    </tr>\n",
              "    <tr>\n",
              "      <th>annual_growth</th>\n",
              "      <td>0.072248</td>\n",
              "    </tr>\n",
              "  </tbody>\n",
              "</table>\n",
              "</div>\n",
              "    <div class=\"colab-df-buttons\">\n",
              "\n",
              "  <div class=\"colab-df-container\">\n",
              "    <button class=\"colab-df-convert\" onclick=\"convertToInteractive('df-d7eece63-bbc2-40fd-be9f-93b587643d7d')\"\n",
              "            title=\"Convert this dataframe to an interactive table.\"\n",
              "            style=\"display:none;\">\n",
              "\n",
              "  <svg xmlns=\"http://www.w3.org/2000/svg\" height=\"24px\" viewBox=\"0 -960 960 960\">\n",
              "    <path d=\"M120-120v-720h720v720H120Zm60-500h600v-160H180v160Zm220 220h160v-160H400v160Zm0 220h160v-160H400v160ZM180-400h160v-160H180v160Zm440 0h160v-160H620v160ZM180-180h160v-160H180v160Zm440 0h160v-160H620v160Z\"/>\n",
              "  </svg>\n",
              "    </button>\n",
              "\n",
              "  <style>\n",
              "    .colab-df-container {\n",
              "      display:flex;\n",
              "      gap: 12px;\n",
              "    }\n",
              "\n",
              "    .colab-df-convert {\n",
              "      background-color: #E8F0FE;\n",
              "      border: none;\n",
              "      border-radius: 50%;\n",
              "      cursor: pointer;\n",
              "      display: none;\n",
              "      fill: #1967D2;\n",
              "      height: 32px;\n",
              "      padding: 0 0 0 0;\n",
              "      width: 32px;\n",
              "    }\n",
              "\n",
              "    .colab-df-convert:hover {\n",
              "      background-color: #E2EBFA;\n",
              "      box-shadow: 0px 1px 2px rgba(60, 64, 67, 0.3), 0px 1px 3px 1px rgba(60, 64, 67, 0.15);\n",
              "      fill: #174EA6;\n",
              "    }\n",
              "\n",
              "    .colab-df-buttons div {\n",
              "      margin-bottom: 4px;\n",
              "    }\n",
              "\n",
              "    [theme=dark] .colab-df-convert {\n",
              "      background-color: #3B4455;\n",
              "      fill: #D2E3FC;\n",
              "    }\n",
              "\n",
              "    [theme=dark] .colab-df-convert:hover {\n",
              "      background-color: #434B5C;\n",
              "      box-shadow: 0px 1px 3px 1px rgba(0, 0, 0, 0.15);\n",
              "      filter: drop-shadow(0px 1px 2px rgba(0, 0, 0, 0.3));\n",
              "      fill: #FFFFFF;\n",
              "    }\n",
              "  </style>\n",
              "\n",
              "    <script>\n",
              "      const buttonEl =\n",
              "        document.querySelector('#df-d7eece63-bbc2-40fd-be9f-93b587643d7d button.colab-df-convert');\n",
              "      buttonEl.style.display =\n",
              "        google.colab.kernel.accessAllowed ? 'block' : 'none';\n",
              "\n",
              "      async function convertToInteractive(key) {\n",
              "        const element = document.querySelector('#df-d7eece63-bbc2-40fd-be9f-93b587643d7d');\n",
              "        const dataTable =\n",
              "          await google.colab.kernel.invokeFunction('convertToInteractive',\n",
              "                                                    [key], {});\n",
              "        if (!dataTable) return;\n",
              "\n",
              "        const docLinkHtml = 'Like what you see? Visit the ' +\n",
              "          '<a target=\"_blank\" href=https://colab.research.google.com/notebooks/data_table.ipynb>data table notebook</a>'\n",
              "          + ' to learn more about interactive tables.';\n",
              "        element.innerHTML = '';\n",
              "        dataTable['output_type'] = 'display_data';\n",
              "        await google.colab.output.renderOutput(dataTable, element);\n",
              "        const docLink = document.createElement('div');\n",
              "        docLink.innerHTML = docLinkHtml;\n",
              "        element.appendChild(docLink);\n",
              "      }\n",
              "    </script>\n",
              "  </div>\n",
              "\n",
              "\n",
              "<div id=\"df-7a61fcc0-f99f-4bff-bf0d-2056be53dd54\">\n",
              "  <button class=\"colab-df-quickchart\" onclick=\"quickchart('df-7a61fcc0-f99f-4bff-bf0d-2056be53dd54')\"\n",
              "            title=\"Suggest charts\"\n",
              "            style=\"display:none;\">\n",
              "\n",
              "<svg xmlns=\"http://www.w3.org/2000/svg\" height=\"24px\"viewBox=\"0 0 24 24\"\n",
              "     width=\"24px\">\n",
              "    <g>\n",
              "        <path d=\"M19 3H5c-1.1 0-2 .9-2 2v14c0 1.1.9 2 2 2h14c1.1 0 2-.9 2-2V5c0-1.1-.9-2-2-2zM9 17H7v-7h2v7zm4 0h-2V7h2v10zm4 0h-2v-4h2v4z\"/>\n",
              "    </g>\n",
              "</svg>\n",
              "  </button>\n",
              "\n",
              "<style>\n",
              "  .colab-df-quickchart {\n",
              "      --bg-color: #E8F0FE;\n",
              "      --fill-color: #1967D2;\n",
              "      --hover-bg-color: #E2EBFA;\n",
              "      --hover-fill-color: #174EA6;\n",
              "      --disabled-fill-color: #AAA;\n",
              "      --disabled-bg-color: #DDD;\n",
              "  }\n",
              "\n",
              "  [theme=dark] .colab-df-quickchart {\n",
              "      --bg-color: #3B4455;\n",
              "      --fill-color: #D2E3FC;\n",
              "      --hover-bg-color: #434B5C;\n",
              "      --hover-fill-color: #FFFFFF;\n",
              "      --disabled-bg-color: #3B4455;\n",
              "      --disabled-fill-color: #666;\n",
              "  }\n",
              "\n",
              "  .colab-df-quickchart {\n",
              "    background-color: var(--bg-color);\n",
              "    border: none;\n",
              "    border-radius: 50%;\n",
              "    cursor: pointer;\n",
              "    display: none;\n",
              "    fill: var(--fill-color);\n",
              "    height: 32px;\n",
              "    padding: 0;\n",
              "    width: 32px;\n",
              "  }\n",
              "\n",
              "  .colab-df-quickchart:hover {\n",
              "    background-color: var(--hover-bg-color);\n",
              "    box-shadow: 0 1px 2px rgba(60, 64, 67, 0.3), 0 1px 3px 1px rgba(60, 64, 67, 0.15);\n",
              "    fill: var(--button-hover-fill-color);\n",
              "  }\n",
              "\n",
              "  .colab-df-quickchart-complete:disabled,\n",
              "  .colab-df-quickchart-complete:disabled:hover {\n",
              "    background-color: var(--disabled-bg-color);\n",
              "    fill: var(--disabled-fill-color);\n",
              "    box-shadow: none;\n",
              "  }\n",
              "\n",
              "  .colab-df-spinner {\n",
              "    border: 2px solid var(--fill-color);\n",
              "    border-color: transparent;\n",
              "    border-bottom-color: var(--fill-color);\n",
              "    animation:\n",
              "      spin 1s steps(1) infinite;\n",
              "  }\n",
              "\n",
              "  @keyframes spin {\n",
              "    0% {\n",
              "      border-color: transparent;\n",
              "      border-bottom-color: var(--fill-color);\n",
              "      border-left-color: var(--fill-color);\n",
              "    }\n",
              "    20% {\n",
              "      border-color: transparent;\n",
              "      border-left-color: var(--fill-color);\n",
              "      border-top-color: var(--fill-color);\n",
              "    }\n",
              "    30% {\n",
              "      border-color: transparent;\n",
              "      border-left-color: var(--fill-color);\n",
              "      border-top-color: var(--fill-color);\n",
              "      border-right-color: var(--fill-color);\n",
              "    }\n",
              "    40% {\n",
              "      border-color: transparent;\n",
              "      border-right-color: var(--fill-color);\n",
              "      border-top-color: var(--fill-color);\n",
              "    }\n",
              "    60% {\n",
              "      border-color: transparent;\n",
              "      border-right-color: var(--fill-color);\n",
              "    }\n",
              "    80% {\n",
              "      border-color: transparent;\n",
              "      border-right-color: var(--fill-color);\n",
              "      border-bottom-color: var(--fill-color);\n",
              "    }\n",
              "    90% {\n",
              "      border-color: transparent;\n",
              "      border-bottom-color: var(--fill-color);\n",
              "    }\n",
              "  }\n",
              "</style>\n",
              "\n",
              "  <script>\n",
              "    async function quickchart(key) {\n",
              "      const quickchartButtonEl =\n",
              "        document.querySelector('#' + key + ' button');\n",
              "      quickchartButtonEl.disabled = true;  // To prevent multiple clicks.\n",
              "      quickchartButtonEl.classList.add('colab-df-spinner');\n",
              "      try {\n",
              "        const charts = await google.colab.kernel.invokeFunction(\n",
              "            'suggestCharts', [key], {});\n",
              "      } catch (error) {\n",
              "        console.error('Error during call to suggestCharts:', error);\n",
              "      }\n",
              "      quickchartButtonEl.classList.remove('colab-df-spinner');\n",
              "      quickchartButtonEl.classList.add('colab-df-quickchart-complete');\n",
              "    }\n",
              "    (() => {\n",
              "      let quickchartButtonEl =\n",
              "        document.querySelector('#df-7a61fcc0-f99f-4bff-bf0d-2056be53dd54 button');\n",
              "      quickchartButtonEl.style.display =\n",
              "        google.colab.kernel.accessAllowed ? 'block' : 'none';\n",
              "    })();\n",
              "  </script>\n",
              "</div>\n",
              "    </div>\n",
              "  </div>\n"
            ]
          },
          "metadata": {},
          "execution_count": 8
        }
      ],
      "source": [
        "show(system)"
      ]
    },
    {
      "cell_type": "markdown",
      "id": "combined-banking",
      "metadata": {
        "id": "combined-banking"
      },
      "source": [
        "Next we'll wrap the code from the previous chapter in a function:"
      ]
    },
    {
      "cell_type": "code",
      "execution_count": 9,
      "id": "pacific-challenge",
      "metadata": {
        "id": "pacific-challenge"
      },
      "outputs": [],
      "source": [
        "def run_simulation1(system):\n",
        "    results = TimeSeries()\n",
        "    results[system.t_0] = system.p_0\n",
        "\n",
        "    for t in range(system.t_0, system.t_end):\n",
        "        results[t+1] = results[t] + system.annual_growth\n",
        "\n",
        "    return results"
      ]
    },
    {
      "cell_type": "markdown",
      "id": "rough-strain",
      "metadata": {
        "id": "rough-strain"
      },
      "source": [
        "`run_simulation1` takes a `System` object and reads from it the values of `t_0`, `t_end`, and `annual_growth`.\n",
        "\n",
        "It simulates population growth over time and returns the results in a `TimeSeries`.\n",
        "Here's how we call it."
      ]
    },
    {
      "cell_type": "code",
      "execution_count": 10,
      "id": "electoral-breach",
      "metadata": {
        "id": "electoral-breach"
      },
      "outputs": [],
      "source": [
        "results1 = run_simulation1(system)"
      ]
    },
    {
      "cell_type": "markdown",
      "id": "ordinary-sound",
      "metadata": {
        "id": "ordinary-sound"
      },
      "source": [
        "Here's the function we used in the previous chapter to plot the estimates."
      ]
    },
    {
      "cell_type": "code",
      "execution_count": 11,
      "id": "peripheral-cassette",
      "metadata": {
        "id": "peripheral-cassette"
      },
      "outputs": [],
      "source": [
        "def plot_estimates():\n",
        "    census.plot(style=':', label='US Census')\n",
        "    un.plot(style='--', label='UN DESA')\n",
        "    decorate(xlabel='Year',\n",
        "             ylabel='World population (billion)')"
      ]
    },
    {
      "cell_type": "markdown",
      "id": "warming-audience",
      "metadata": {
        "id": "warming-audience"
      },
      "source": [
        "And here are the results."
      ]
    },
    {
      "cell_type": "code",
      "execution_count": 12,
      "id": "capable-diana",
      "metadata": {
        "colab": {
          "base_uri": "https://localhost:8080/",
          "height": 309
        },
        "id": "capable-diana",
        "outputId": "1a91527a-f5e9-4b2d-9e30-3a09dc59911b"
      },
      "outputs": [
        {
          "output_type": "display_data",
          "data": {
            "text/plain": [
              "<Figure size 450x300 with 1 Axes>"
            ],
            "image/png": "[encoded data removed]"
          },
          "metadata": {}
        }
      ],
      "source": [
        "results1.plot(label='model', color='gray')\n",
        "plot_estimates()\n",
        "decorate(title='Constant growth model')"
      ]
    },
    {
      "cell_type": "markdown",
      "id": "exposed-witness",
      "metadata": {
        "id": "exposed-witness"
      },
      "source": [
        "It might not be obvious that using functions and `System` objects is a\n",
        "big improvement, and for a simple model that we run only once, maybe\n",
        "it's not. But as we work with more complex models, and when we run many simulations with different parameters, we'll see that this way of organizing the code makes a big difference.\n",
        "\n",
        "Now let's see if we can improve the model."
      ]
    },
    {
      "cell_type": "markdown",
      "id": "geographic-hormone",
      "metadata": {
        "id": "geographic-hormone"
      },
      "source": [
        "## Proportional Growth Model\n",
        "\n",
        "The biggest problem with the constant growth model is that it doesn't\n",
        "make any sense. It is hard to imagine how people all over the world\n",
        "could conspire to keep population growth constant from year to year.\n",
        "\n",
        "On the other hand, if some fraction of the population dies each year,\n",
        "and some fraction gives birth, we can compute the net change in the\n",
        "population like this:"
      ]
    },
    {
      "cell_type": "code",
      "execution_count": 13,
      "id": "laughing-wesley",
      "metadata": {
        "id": "laughing-wesley"
      },
      "outputs": [],
      "source": [
        "def run_simulation2(system):\n",
        "    results = TimeSeries()\n",
        "    results[system.t_0] = system.p_0\n",
        "\n",
        "    for t in range(system.t_0, system.t_end):\n",
        "        births = system.birth_rate * results[t]\n",
        "        deaths = system.death_rate * results[t]\n",
        "        results[t+1] = results[t] + births - deaths\n",
        "\n",
        "    return results"
      ]
    },
    {
      "cell_type": "markdown",
      "id": "educated-portugal",
      "metadata": {
        "id": "educated-portugal"
      },
      "source": [
        "Each time through the loop, we use the parameter `birth_rate` to compute the number of births, and `death_rate` to compute the number of deaths.\n",
        "The rest of the function is the same as `run_simulation1`.\n",
        "\n",
        "Now we can choose the values of `birth_rate` and `death_rate` that best fit the data.\n",
        "For the death rate, I'll use 7.7 deaths per 1000 people, which was roughly the global death rate in 2020 (see <https://www.indexmundi.com/world/death_rate.html>).\n",
        "I chose the birth rate by hand to fit the population data."
      ]
    },
    {
      "cell_type": "code",
      "execution_count": 14,
      "id": "wired-brief",
      "metadata": {
        "id": "wired-brief"
      },
      "outputs": [],
      "source": [
        "system.death_rate = 7.7 / 1000\n",
        "system.birth_rate = 25 / 1000"
      ]
    },
    {
      "cell_type": "markdown",
      "id": "sufficient-contest",
      "metadata": {
        "id": "sufficient-contest"
      },
      "source": [
        "Then I ran the simulation and plotted the results:"
      ]
    },
    {
      "cell_type": "code",
      "execution_count": 15,
      "id": "looking-trace",
      "metadata": {
        "colab": {
          "base_uri": "https://localhost:8080/",
          "height": 309
        },
        "id": "looking-trace",
        "outputId": "319a917b-f0dc-41f9-c02a-47118c167702"
      },
      "outputs": [
        {
          "output_type": "display_data",
          "data": {
            "text/plain": [
              "<Figure size 450x300 with 1 Axes>"
            ],
            "image/png": "[encoded data removed]"
          },
          "metadata": {}
        }
      ],
      "source": [
        "results2 = run_simulation2(system)\n",
        "results2.plot(label='model', color='gray')\n",
        "plot_estimates()\n",
        "decorate(title='Proportional growth model')"
      ]
    },
    {
      "cell_type": "markdown",
      "id": "suited-costs",
      "metadata": {
        "id": "suited-costs"
      },
      "source": [
        "The proportional model fits\n",
        "the data well from 1950 to 1965, but not so well after that. Overall,\n",
        "the *quality of fit* is not as good as the constant growth model,\n",
        "which is surprising, because it seems like the proportional model is\n",
        "more realistic.\n",
        "\n",
        "In the next chapter we'll try one more time to find a model that makes\n",
        "sense and fits the data. But first, I want to make a few more\n",
        "improvements to the code."
      ]
    },
    {
      "cell_type": "markdown",
      "id": "appropriate-checkout",
      "metadata": {
        "id": "appropriate-checkout"
      },
      "source": [
        "## Factoring Out the Update Function\n",
        "\n",
        "`run_simulation1` and `run_simulation2` are nearly identical except for the body of the `for` loop, where we compute the population for the next year.\n",
        "\n",
        "Rather than repeat identical code, we can separate the things that\n",
        "change from the things that don't. First, I'll pull out the births and deaths from `run_simulation2` and make a function:"
      ]
    },
    {
      "cell_type": "code",
      "execution_count": 16,
      "id": "handmade-permit",
      "metadata": {
        "id": "handmade-permit"
      },
      "outputs": [],
      "source": [
        "def growth_func1(t, pop, system):\n",
        "    births = system.birth_rate * pop\n",
        "    deaths = system.death_rate * pop\n",
        "    return births - deaths"
      ]
    },
    {
      "cell_type": "markdown",
      "id": "fabulous-bankruptcy",
      "metadata": {
        "id": "fabulous-bankruptcy"
      },
      "source": [
        "`growth_func1` takes as arguments the current year, current population, and a `System` object; it returns the net population growth during the current year.\n",
        "\n",
        "This function does not use `t`, so we could leave it out. But we will see other growth functions that need it, and it is convenient if they all take the same parameters, used or not.\n",
        "Now we can write a function that runs any model:"
      ]
    },
    {
      "cell_type": "code",
      "execution_count": 17,
      "id": "civilian-accused",
      "metadata": {
        "tags": [
          "export"
        ],
        "id": "civilian-accused"
      },
      "outputs": [],
      "source": [
        "def run_simulation(system, growth_func):\n",
        "    results = TimeSeries()\n",
        "    results[system.t_0] = system.p_0\n",
        "\n",
        "    for t in range(system.t_0, system.t_end):\n",
        "        growth = growth_func(t, results[t], system)\n",
        "        results[t+1] = results[t] + growth\n",
        "\n",
        "    return results"
      ]
    },
    {
      "cell_type": "markdown",
      "id": "failing-assist",
      "metadata": {
        "id": "failing-assist"
      },
      "source": [
        "This function demonstrates a feature we have not seen before: it takes a\n",
        "function as a parameter! When we call `run_simulation`, the second\n",
        "parameter is a function, like `growth_func1`, that computes the\n",
        "population for the next year.\n",
        "\n",
        "Here's how we call it:"
      ]
    },
    {
      "cell_type": "code",
      "execution_count": 18,
      "id": "wicked-seeking",
      "metadata": {
        "id": "wicked-seeking"
      },
      "outputs": [],
      "source": [
        "results = run_simulation(system, growth_func1)"
      ]
    },
    {
      "cell_type": "markdown",
      "id": "simple-camel",
      "metadata": {
        "id": "simple-camel"
      },
      "source": [
        "Passing a function as an argument is the same as passing any other\n",
        "value. The argument, which is `growth_func1` in this example, gets\n",
        "assigned to the parameter, which is called `growth_func`. Inside\n",
        "`run_simulation`, we can call `growth_func` just like any other function.\n",
        "\n",
        "Each time through the loop, `run_simulation` calls `growth_func1` to compute net growth, and uses it to compute the population during the next year."
      ]
    },
    {
      "cell_type": "markdown",
      "id": "spectacular-paradise",
      "metadata": {
        "id": "spectacular-paradise"
      },
      "source": [
        "## Combining Birth and Death\n",
        "\n",
        "We can simplify the code slightly by combining births and deaths to compute the net growth rate.\n",
        "Instead of two parameters, `birth_rate` and `death_rate`, we can write the update function in terms of a single parameter that represents the difference:"
      ]
    },
    {
      "cell_type": "code",
      "execution_count": 19,
      "id": "impressive-model",
      "metadata": {
        "id": "impressive-model"
      },
      "outputs": [],
      "source": [
        "system.alpha = system.birth_rate - system.death_rate"
      ]
    },
    {
      "cell_type": "markdown",
      "id": "modern-uncertainty",
      "metadata": {
        "id": "modern-uncertainty"
      },
      "source": [
        "The name of this parameter, `alpha`, is the conventional name for a\n",
        "proportional growth rate.\n",
        "\n",
        "Here's the modified version of `growth_func1`:"
      ]
    },
    {
      "cell_type": "code",
      "execution_count": 20,
      "id": "familiar-helena",
      "metadata": {
        "id": "familiar-helena"
      },
      "outputs": [],
      "source": [
        "def growth_func2(t, pop, system):\n",
        "    return system.alpha * pop"
      ]
    },
    {
      "cell_type": "markdown",
      "id": "understanding-typing",
      "metadata": {
        "id": "understanding-typing"
      },
      "source": [
        "And here's how we run it:"
      ]
    },
    {
      "cell_type": "code",
      "execution_count": 21,
      "id": "independent-effectiveness",
      "metadata": {
        "id": "independent-effectiveness"
      },
      "outputs": [],
      "source": [
        "results = run_simulation(system, growth_func2)"
      ]
    },
    {
      "cell_type": "markdown",
      "id": "everyday-delicious",
      "metadata": {
        "id": "everyday-delicious"
      },
      "source": [
        "The results are the same as the previous versions, but now the code is organized in a way that makes it easy to explore other models."
      ]
    },
    {
      "cell_type": "code",
      "source": [
        "import matplotlib.pyplot as plt\n",
        "\n",
        "# Define the System object\n",
        "system = System(t_0=0,  # Initial year\n",
        "                t_end=100,  # End year\n",
        "                p_0=1,  # Initial population\n",
        "                growth_rate=0.03)  # Growth rate\n",
        "\n",
        "# Define the growth function\n",
        "def exponential_growth(pop, t, system):\n",
        "    return system.growth_rate * pop\n",
        "\n",
        "# Define the simulation function\n",
        "def run_simulation(system, growth_func):\n",
        "    results = TimeSeries()\n",
        "    results[system.t_0] = system.p_0\n",
        "\n",
        "    for t in range(system.t_0, system.t_end):\n",
        "        results[t+1] = results[t] + growth_func(results[t], t, system)\n",
        "\n",
        "    return results\n",
        "\n",
        "# Run the simulation\n",
        "results_exponential = run_simulation(system, exponential_growth)\n",
        "\n",
        "# Plot the results\n",
        "results_exponential.plot(label='Exponential growth', color='blue')\n",
        "plt.title('Exponential Growth Model')\n",
        "plt.xlabel('Year')\n",
        "plt.ylabel('Population')\n",
        "plt.legend()\n",
        "plt.show()"
      ],
      "metadata": {
        "colab": {
          "base_uri": "https://localhost:8080/",
          "height": 310
        },
        "id": "EmyMJX4yRIky",
        "outputId": "c870a980-494b-430a-e528-8442d792b653"
      },
      "id": "EmyMJX4yRIky",
      "execution_count": 26,
      "outputs": [
        {
          "output_type": "display_data",
          "data": {
            "text/plain": [
              "<Figure size 450x300 with 1 Axes>"
            ],
            "image/png": "[encoded data removed]"
          },
          "metadata": {}
        }
      ]
    }
  ],
  "metadata": {
    "celltoolbar": "Tags",
    "kernelspec": {
      "display_name": "Python 3 (ipykernel)",
      "language": "python",
      "name": "python3"
    },
    "language_info": {
      "codemirror_mode": {
        "name": "ipython",
        "version": 3
      },
      "file_extension": ".py",
      "mimetype": "text/x-python",
      "name": "python",
      "nbconvert_exporter": "python",
      "pygments_lexer": "ipython3",
      "version": "3.10.6"
    },
    "colab": {
      "provenance": []
    }
  },
  "nbformat": 4,
  "nbformat_minor": 5
}