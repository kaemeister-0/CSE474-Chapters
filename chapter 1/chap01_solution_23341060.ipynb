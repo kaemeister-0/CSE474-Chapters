{
  "cells": [
    {
      "cell_type": "code",
      "source": [
        "Name = Kaushik Datta\n",
        "ID = 23341060\n"
      ],
      "metadata": {
        "id": "mRJmxjO7tJ8-"
      },
      "id": "mRJmxjO7tJ8-",
      "execution_count": null,
      "outputs": []
    },
    {
      "cell_type": "markdown",
      "id": "affecting-malta",
      "metadata": {
        "id": "affecting-malta"
      },
      "source": [
        "# Modeling"
      ]
    },
    {
      "cell_type": "markdown",
      "id": "pressed-palestinian",
      "metadata": {
        "tags": [],
        "id": "pressed-palestinian"
      },
      "source": [
        "*Modeling and Simulation in Python*\n",
        "\n",
        "Copyright 2021 Allen Downey\n",
        "\n",
        "License: [Creative Commons Attribution-NonCommercial-ShareAlike 4.0 International](https://creativecommons.org/licenses/by-nc-sa/4.0/)"
      ]
    },
    {
      "cell_type": "markdown",
      "id": "confirmed-budapest",
      "metadata": {
        "tags": [],
        "id": "confirmed-budapest"
      },
      "source": [
        "## Jupyter\n",
        "\n",
        "Welcome to *Modeling and Simulation in Python*, and welcome to Jupyter.\n",
        "\n",
        "This is a Jupyter notebook, which is a development environment where you can write and run Python code.  Each notebook is divided into cells.  Each cell contains either text (like this cell) or Python code."
      ]
    },
    {
      "cell_type": "markdown",
      "id": "danish-scope",
      "metadata": {
        "tags": [],
        "id": "danish-scope"
      },
      "source": [
        "To run a cell, hold down SHIFT and press ENTER.  \n",
        "\n",
        "* If you run a text cell, Jupyter formats the text and displays the result.\n",
        "\n",
        "* If you run a code cell, Jupyter runs the Python code in the cell and displays the result, if any.\n",
        "\n",
        "The following cells check whether the libraries we need are installed.  If so, the cells produce no output.  If not, you'll see updates from the installer."
      ]
    },
    {
      "cell_type": "code",
      "execution_count": 1,
      "id": "passive-dayton",
      "metadata": {
        "tags": [],
        "id": "passive-dayton",
        "colab": {
          "base_uri": "https://localhost:8080/"
        },
        "outputId": "157e15d6-b37f-4477-ff74-66cda6792b2c"
      },
      "outputs": [
        {
          "output_type": "stream",
          "name": "stdout",
          "text": [
            "Collecting pint\n",
            "  Downloading Pint-0.22-py3-none-any.whl (294 kB)\n",
            "\u001b[2K     \u001b[90m━━━━━━━━━━━━━━━━━━━━━━━━━━━━━━━━━━━━━━━━\u001b[0m \u001b[32m294.0/294.0 kB\u001b[0m \u001b[31m5.2 MB/s\u001b[0m eta \u001b[36m0:00:00\u001b[0m\n",
            "\u001b[?25hRequirement already satisfied: typing-extensions in /usr/local/lib/python3.10/dist-packages (from pint) (4.5.0)\n",
            "Installing collected packages: pint\n",
            "Successfully installed pint-0.22\n"
          ]
        }
      ],
      "source": [
        "# install Pint if necessary\n",
        "\n",
        "try:\n",
        "    from pint import UnitRegistry\n",
        "except ImportError:\n",
        "    !pip install pint"
      ]
    },
    {
      "cell_type": "code",
      "execution_count": 2,
      "id": "prompt-committee",
      "metadata": {
        "tags": [],
        "id": "prompt-committee",
        "colab": {
          "base_uri": "https://localhost:8080/"
        },
        "outputId": "930ccd5d-cb5a-4f08-d538-5485eb466fb3"
      },
      "outputs": [
        {
          "output_type": "stream",
          "name": "stdout",
          "text": [
            "Downloaded modsim.py\n"
          ]
        }
      ],
      "source": [
        "# download modsim.py if necessary\n",
        "\n",
        "from os.path import basename, exists\n",
        "\n",
        "def download(url):\n",
        "    filename = basename(url)\n",
        "    if not exists(filename):\n",
        "        from urllib.request import urlretrieve\n",
        "        local, _ = urlretrieve(url, filename)\n",
        "        print('Downloaded ' + local)\n",
        "\n",
        "download('https://github.com/AllenDowney/ModSimPy/raw/master/' +\n",
        "         'modsim.py')"
      ]
    },
    {
      "cell_type": "code",
      "execution_count": 3,
      "id": "fifteen-train",
      "metadata": {
        "tags": [],
        "id": "fifteen-train"
      },
      "outputs": [],
      "source": [
        "# import functions from modsim\n",
        "\n",
        "from modsim import *"
      ]
    },
    {
      "cell_type": "markdown",
      "id": "chronic-moore",
      "metadata": {
        "id": "chronic-moore"
      },
      "source": [
        "This chapter introduces the modeling framework we will use throughout the book, and works through our first example, using a simple model of physics to evaluate the claim that a penny falling from the height of the Empire State Building could kill someone if it hit them on the head. Also, you'll see how to do computation in Python with units like meters and seconds."
      ]
    },
    {
      "cell_type": "markdown",
      "id": "extensive-proposition",
      "metadata": {
        "id": "extensive-proposition"
      },
      "source": [
        "This chapter is available as a Jupyter notebook where you can read the text, run the code, and work on the exercises.\n",
        "Click here to access the notebooks: <https://allendowney.github.io/ModSimPy/>."
      ]
    },
    {
      "cell_type": "markdown",
      "id": "hourly-financing",
      "metadata": {
        "id": "hourly-financing"
      },
      "source": [
        "## The Modeling Framework\n",
        "\n",
        "This book is about modeling and simulating physical systems. The\n",
        "following diagram shows what I mean by *modeling*:\n",
        "\n",
        "![Diagram of the modeling framework.](https://github.com/AllenDowney/ModSim/raw/main/figs/modeling_framework.png)"
      ]
    },
    {
      "cell_type": "markdown",
      "id": "structured-receiver",
      "metadata": {
        "id": "structured-receiver"
      },
      "source": [
        "Starting in the lower left, the *system* is something in the real\n",
        "world we are interested in.\n",
        "To model the system, we have to decide which elements of the real world to include and which we can leave out.\n",
        "This process is called *abstraction*.\n",
        "\n",
        "The result of abstraction is a *model*, which is a description of the system that includes only the features we think are essential. A model\n",
        "can be represented in the form of diagrams and equations, which can be\n",
        "used for mathematical *analysis*. It can also be implemented in the\n",
        "form of a computer program, which can run *simulations*.\n",
        "\n",
        "The result of analysis and simulation might be a *prediction* about\n",
        "what the system will do, an *explanation* of why it behaves the way it\n",
        "does, or a *design* intended to achieve a purpose.\n",
        "\n",
        "We can *validate* predictions and test designs by taking\n",
        "*measurements* from the real world and comparing the *data* we get\n",
        "with the results from analysis and simulation."
      ]
    },
    {
      "cell_type": "markdown",
      "id": "center-accommodation",
      "metadata": {
        "id": "center-accommodation"
      },
      "source": [
        "For any physical system, there are many possible models, each one\n",
        "including and excluding different features, or including different\n",
        "levels of detail. The goal of the modeling process is to find the model\n",
        "best suited to its purpose (prediction, explanation, or design).\n",
        "\n",
        "Sometimes the best model is the most detailed. If we include more\n",
        "features, the model is more realistic, and we expect its predictions to\n",
        "be more accurate.\n",
        "But often a simpler model is better. If we include only the essential\n",
        "features and leave out the rest, we get models that are easier to work\n",
        "with, and the explanations they provide can be clearer and more\n",
        "compelling."
      ]
    },
    {
      "cell_type": "markdown",
      "id": "confirmed-highlight",
      "metadata": {
        "id": "confirmed-highlight"
      },
      "source": [
        "As an example, suppose someone asks you why the orbit of the Earth is\n",
        "elliptical. If you model the Earth and Sun as point masses (ignoring\n",
        "their actual size), compute the gravitational force between them using\n",
        "Newton's law of universal gravitation, and compute the resulting orbit\n",
        "using Newton's laws of motion, you can show that the result is an\n",
        "ellipse.\n",
        "Of course, the actual orbit of Earth is not a perfect ellipse, because\n",
        "of the gravitational forces of the Moon, Jupiter, and other objects in\n",
        "the solar system, and because Newton's laws of motion are only\n",
        "approximately true (they don't take into account relativistic effects).\n",
        "But adding these features to the model would not improve the\n",
        "explanation; more detail would only be a distraction from the\n",
        "fundamental cause. However, if the goal is to predict the position of\n",
        "the Earth with great precision, including more details might be\n",
        "necessary."
      ]
    },
    {
      "cell_type": "markdown",
      "id": "stretch-geneva",
      "metadata": {
        "id": "stretch-geneva"
      },
      "source": [
        "Choosing the best model depends on what the model is for. It is usually\n",
        "a good idea to start with a simple model, even if it is likely to be too\n",
        "simple, and test whether it is good enough for its purpose. Then you can\n",
        "add features gradually, starting with the ones you expect to be most\n",
        "essential. This process is called *iterative modeling*.\n",
        "\n",
        "Comparing results of successive models provides a form of *internal\n",
        "validation*, so you can catch conceptual, mathematical, and software\n",
        "errors. And by adding and removing features, you can tell which ones\n",
        "have the biggest effect on the results, and which can be ignored.\n",
        "\n",
        "Comparing results to data from the real world provides *external\n",
        "validation*, which is generally the strongest test.\n",
        "\n",
        "The modeling framework is pretty abstract; the following example might make it clearer."
      ]
    },
    {
      "cell_type": "markdown",
      "id": "criminal-lunch",
      "metadata": {
        "id": "criminal-lunch"
      },
      "source": [
        "## The Falling Penny Myth\n",
        "\n",
        "You might have heard that a\n",
        "penny dropped from the top of the Empire State Building would be going\n",
        "so fast when it hit the pavement that it would be embedded in the\n",
        "concrete; or if it hit a person, it would break their skull.\n",
        "\n",
        "We can test this myth by making and analyzing two models. For the first model,\n",
        "we'll assume that the effect of air resistance is small. In that case, the primary force acting on the penny is gravity, which causes the penny to accelerate downward.\n",
        "\n",
        "If the initial velocity is 0 and the acceleration, $a$, is constant, the velocity after $t$ seconds is\n",
        "\n",
        "$$v = a t$$\n",
        "\n",
        "and the distance the penny has dropped is\n",
        "\n",
        "$$x = a t^2 / 2$$\n",
        "\n",
        "To find the time until the penny reaches the sidewalk, we can solve for $t$:\n",
        "\n",
        "$$t = \\sqrt{ 2 x / a}$$\n",
        "\n",
        "Plugging in the acceleration of gravity, $a = 9.8$ m/s$^2$, and the height of the Empire State Building, $x = 381$ m, we get $t = 8.8$ s.\n",
        "\n",
        "Then computing $v = a t$ we get a velocity on impact of $86$ m/s, which is about 190 miles per hour. That sounds like it could hurt."
      ]
    },
    {
      "cell_type": "markdown",
      "id": "documentary-diagnosis",
      "metadata": {
        "id": "documentary-diagnosis"
      },
      "source": [
        "Of course, these results are not exact because the model is based on simplifications. For example, we assume that gravity is constant.\n",
        "In fact, the force of gravity is different on different parts of the globe, and it gets weaker as you move away from the surface.\n",
        "But these differences are small, so ignoring them is probably a good choice for this problem.\n",
        "\n",
        "On the other hand, ignoring air resistance is not a good choice, because in this scenario its effect is substantial.\n",
        "Once the penny gets to about 29 m/s, the upward force of air resistance equals the downward force of gravity, so the penny stops accelerating.\n",
        "This is the *terminal velocity* of the penny in air.\n",
        "\n",
        "And that suggests a second model, where the penny accelerates until it reaches terminal velocity; after that, acceleration is 0 and velocity is constant.\n",
        "In this model, the penny hits the sidewalk at about 29 m/s.\n",
        "That's much less than 86 m/s, which is what the first model predicts.\n",
        "Getting hit with a penny at that speed might hurt, but it would be unlikely to cause real harm. And it would not damage concrete."
      ]
    },
    {
      "cell_type": "markdown",
      "id": "recent-appliance",
      "metadata": {
        "id": "recent-appliance"
      },
      "source": [
        "The statistician George Box famously said \"All models are wrong, but\n",
        "some are useful.\" He was talking about statistical models, but his wise words apply to all kinds of models. Our first model, which ignores air resistance, is very wrong, and probably not useful. The second model, which takes air resistance into account, is still wrong, but it's better, and it's good enough to refute the myth.\n",
        "\n",
        "The television show *Mythbusters* has tested the myth of the falling\n",
        "penny more carefully; you can view the results at\n",
        "<https://modsimpy.com/myth/>. Their work is based on a mathematical model of motion, measurements to determine the force of air resistance on a penny, and a physical model of a human head."
      ]
    },
    {
      "cell_type": "markdown",
      "id": "brief-zoning",
      "metadata": {
        "id": "brief-zoning"
      },
      "source": [
        "## Computation In Python\n",
        "\n",
        "Let me show you how I computed the results from the\n",
        "previous section using Python.\n",
        "First we'll create a variable to represent acceleration due to gravity in meters per second squared (m/s$^2$)."
      ]
    },
    {
      "cell_type": "code",
      "execution_count": 4,
      "id": "eleven-marine",
      "metadata": {
        "id": "eleven-marine"
      },
      "outputs": [],
      "source": [
        "a = 9.8"
      ]
    },
    {
      "cell_type": "markdown",
      "id": "upset-myanmar",
      "metadata": {
        "id": "upset-myanmar"
      },
      "source": [
        "A *variable* is a name that corresponds to a value. In this example, the name is `a` and the value is the number `9.8`.\n",
        "\n",
        "Suppose we let the penny drop for $3.4$ seconds (s).  I'll create a variable to represent this time:"
      ]
    },
    {
      "cell_type": "code",
      "execution_count": 5,
      "id": "following-launch",
      "metadata": {
        "id": "following-launch"
      },
      "outputs": [],
      "source": [
        "t = 3.4"
      ]
    },
    {
      "cell_type": "markdown",
      "id": "greek-heritage",
      "metadata": {
        "id": "greek-heritage"
      },
      "source": [
        "Now we can compute the velocity of the penny after `t` seconds."
      ]
    },
    {
      "cell_type": "code",
      "execution_count": 6,
      "id": "mature-duration",
      "metadata": {
        "id": "mature-duration"
      },
      "outputs": [],
      "source": [
        "v = a * t"
      ]
    },
    {
      "cell_type": "markdown",
      "id": "serial-pilot",
      "metadata": {
        "id": "serial-pilot"
      },
      "source": [
        "Python uses the symbol `*` for multiplication.  The other arithmetic operators are `+` for addition, `-` for subtraction, `/` for division, and `**` for exponentiation."
      ]
    },
    {
      "cell_type": "markdown",
      "id": "qualified-diabetes",
      "metadata": {
        "id": "qualified-diabetes"
      },
      "source": [
        "After you assign a value to a variable, you can display the value like this:"
      ]
    },
    {
      "cell_type": "code",
      "execution_count": 7,
      "id": "considered-inclusion",
      "metadata": {
        "id": "considered-inclusion",
        "colab": {
          "base_uri": "https://localhost:8080/"
        },
        "outputId": "a42f3d2f-3012-4826-938a-814699beee02"
      },
      "outputs": [
        {
          "output_type": "execute_result",
          "data": {
            "text/plain": [
              "33.32"
            ]
          },
          "metadata": {},
          "execution_count": 7
        }
      ],
      "source": [
        "v"
      ]
    },
    {
      "cell_type": "markdown",
      "id": "northern-saturday",
      "metadata": {
        "id": "northern-saturday"
      },
      "source": [
        "After $3.4$ s, the velocity of the penny is about $33$ m/s (ignoring air resistance).  Now let's see how far it would travel during that time:"
      ]
    },
    {
      "cell_type": "code",
      "execution_count": 8,
      "id": "valued-electricity",
      "metadata": {
        "id": "valued-electricity",
        "colab": {
          "base_uri": "https://localhost:8080/"
        },
        "outputId": "0e57f559-5ebb-4674-ccc4-f29448481b60"
      },
      "outputs": [
        {
          "output_type": "execute_result",
          "data": {
            "text/plain": [
              "56.644"
            ]
          },
          "metadata": {},
          "execution_count": 8
        }
      ],
      "source": [
        "x = a * t**2 / 2\n",
        "x"
      ]
    },
    {
      "cell_type": "markdown",
      "id": "yellow-business",
      "metadata": {
        "id": "yellow-business"
      },
      "source": [
        "It would travel about $56$ m.  Now, going in the other direction, let's compute the time it takes to fall 381 m, the height of the Empire State Building."
      ]
    },
    {
      "cell_type": "code",
      "execution_count": 9,
      "id": "closed-month",
      "metadata": {
        "id": "closed-month"
      },
      "outputs": [],
      "source": [
        "h = 381"
      ]
    },
    {
      "cell_type": "markdown",
      "id": "fuzzy-lease",
      "metadata": {
        "id": "fuzzy-lease"
      },
      "source": [
        "For this computation, we need the square root function, `sqrt`, which is provided by a library called NumPy.\n",
        "Before we can use it, we have to import it like this:"
      ]
    },
    {
      "cell_type": "code",
      "execution_count": 10,
      "id": "nuclear-clone",
      "metadata": {
        "id": "nuclear-clone"
      },
      "outputs": [],
      "source": [
        "from numpy import sqrt"
      ]
    },
    {
      "cell_type": "markdown",
      "id": "unlimited-swiss",
      "metadata": {
        "id": "unlimited-swiss"
      },
      "source": [
        "Now we can use it like this:"
      ]
    },
    {
      "cell_type": "code",
      "execution_count": 11,
      "id": "quarterly-nightmare",
      "metadata": {
        "id": "quarterly-nightmare",
        "colab": {
          "base_uri": "https://localhost:8080/"
        },
        "outputId": "4c417ab3-b705-4e2a-b108-21e3ec31a885"
      },
      "outputs": [
        {
          "output_type": "execute_result",
          "data": {
            "text/plain": [
              "8.817885349720552"
            ]
          },
          "metadata": {},
          "execution_count": 11
        }
      ],
      "source": [
        "t = sqrt(2 * h / a)\n",
        "t"
      ]
    },
    {
      "cell_type": "markdown",
      "id": "velvet-oklahoma",
      "metadata": {
        "id": "velvet-oklahoma"
      },
      "source": [
        "With no air resistance, it would take about $8.8$ s for the penny to reach the sidewalk."
      ]
    },
    {
      "cell_type": "code",
      "execution_count": 12,
      "id": "quality-external",
      "metadata": {
        "id": "quality-external",
        "colab": {
          "base_uri": "https://localhost:8080/"
        },
        "outputId": "3ac9fede-ef64-4f7c-c42c-ea70b7bbbb21"
      },
      "outputs": [
        {
          "output_type": "execute_result",
          "data": {
            "text/plain": [
              "86.41527642726142"
            ]
          },
          "metadata": {},
          "execution_count": 12
        }
      ],
      "source": [
        "v = a * t\n",
        "v"
      ]
    },
    {
      "cell_type": "markdown",
      "id": "active-lobby",
      "metadata": {
        "id": "active-lobby"
      },
      "source": [
        "And its velocity on impact would be about $86$ m/s."
      ]
    },
    {
      "cell_type": "markdown",
      "id": "human-phase",
      "metadata": {
        "id": "human-phase"
      },
      "source": [
        "### False Precision\n",
        "\n",
        "Python displays results with about 16 digits, which gives the impression that they are very precise, but don't be fooled.\n",
        "The numbers we get out are only as good as the numbers we put in.\n",
        "\n",
        "For example, the \"roof height\" of the Empire State Building is $380$ m (according to Wikipedia: <https://en.wikipedia.org/wiki/Empire_State_Building>).\n",
        "I chose $h=381$ m for this example on the assumption that the observation deck is on the roof and you drop the penny from a 1 meter railing.\n",
        "But that's probably not right, so we should treat this value as an approximation where only the first two digits are likely to be right.\n",
        "\n",
        "If the precision of the inputs is two digits, the precision of the outputs is two digits, *at most*.\n",
        "That's why, if the output is `86.41527642726142`, I report it as \"about 86\"."
      ]
    },
    {
      "cell_type": "markdown",
      "id": "clinical-blackjack",
      "metadata": {
        "id": "clinical-blackjack"
      },
      "source": [
        "### Computation With Units\n",
        "\n",
        "The computations we just did use numbers without units.\n",
        "When we set `h=381`, we left out the meters, and when we set `a=9.8`, we left out the meters per second squared.\n",
        "And, when we got the result `v=86`, we added back the meters per second.\n",
        "\n",
        "Leaving units out of computation is a common practice, but it tends to cause errors, including the very expensive failure of the Mars Climate Orbiter in 1999 (see <https://en.wikipedia.org/wiki/Mars_Climate_Orbiter>).\n",
        "When possible, it is better to include units in the computation.\n",
        "\n",
        "To represent units, we'll use a library called Pint (<https://pint.readthedocs.io/>).\n",
        "To use it, we have to import a function called `UnitRegistry` and call it like this:"
      ]
    },
    {
      "cell_type": "code",
      "execution_count": 13,
      "id": "lovely-declaration",
      "metadata": {
        "id": "lovely-declaration"
      },
      "outputs": [],
      "source": [
        "from pint import UnitRegistry\n",
        "\n",
        "units = UnitRegistry()"
      ]
    },
    {
      "cell_type": "markdown",
      "id": "consecutive-sleeve",
      "metadata": {
        "id": "consecutive-sleeve"
      },
      "source": [
        "The result is an object that contains variables representing pretty much every unit you've heard of.\n",
        "For example:"
      ]
    },
    {
      "cell_type": "code",
      "execution_count": 14,
      "id": "cardiac-class",
      "metadata": {
        "id": "cardiac-class",
        "colab": {
          "base_uri": "https://localhost:8080/",
          "height": 34
        },
        "outputId": "d85409bd-2c61-481b-c29b-0117d910b137"
      },
      "outputs": [
        {
          "output_type": "execute_result",
          "data": {
            "text/plain": [
              "<Unit('league')>"
            ],
            "text/html": [
              "league"
            ],
            "text/latex": "$\\mathrm{league}$"
          },
          "metadata": {},
          "execution_count": 14
        }
      ],
      "source": [
        "units.league"
      ]
    },
    {
      "cell_type": "code",
      "execution_count": 15,
      "id": "phantom-copper",
      "metadata": {
        "id": "phantom-copper",
        "colab": {
          "base_uri": "https://localhost:8080/",
          "height": 34
        },
        "outputId": "fc82fb78-f465-4348-b19b-9f59ab26e60c"
      },
      "outputs": [
        {
          "output_type": "execute_result",
          "data": {
            "text/plain": [
              "<Unit('fortnight')>"
            ],
            "text/html": [
              "fortnight"
            ],
            "text/latex": "$\\mathrm{fortnight}$"
          },
          "metadata": {},
          "execution_count": 15
        }
      ],
      "source": [
        "units.fortnight"
      ]
    },
    {
      "cell_type": "markdown",
      "id": "unlike-opera",
      "metadata": {
        "id": "unlike-opera"
      },
      "source": [
        "But leagues and fortnights are not part of the International System of Units\n",
        "(see <https://en.wikipedia.org/wiki/International_System_of_Units>); in the jargon, they are not \"SI units\".\n",
        "Instead, we will use `meter` and `second`."
      ]
    },
    {
      "cell_type": "code",
      "execution_count": 16,
      "id": "russian-popularity",
      "metadata": {
        "id": "russian-popularity",
        "colab": {
          "base_uri": "https://localhost:8080/",
          "height": 34
        },
        "outputId": "c39cc781-55cd-4f12-f7d5-4f2f58bd472b"
      },
      "outputs": [
        {
          "output_type": "execute_result",
          "data": {
            "text/plain": [
              "<Unit('meter')>"
            ],
            "text/html": [
              "meter"
            ],
            "text/latex": "$\\mathrm{meter}$"
          },
          "metadata": {},
          "execution_count": 16
        }
      ],
      "source": [
        "meter = units.meter\n",
        "meter"
      ]
    },
    {
      "cell_type": "code",
      "execution_count": 17,
      "id": "endless-paint",
      "metadata": {
        "id": "endless-paint",
        "colab": {
          "base_uri": "https://localhost:8080/",
          "height": 34
        },
        "outputId": "19104c4b-ca2c-4cd4-e631-23564075a3d5"
      },
      "outputs": [
        {
          "output_type": "execute_result",
          "data": {
            "text/plain": [
              "<Unit('second')>"
            ],
            "text/html": [
              "second"
            ],
            "text/latex": "$\\mathrm{second}$"
          },
          "metadata": {},
          "execution_count": 17
        }
      ],
      "source": [
        "second = units.second\n",
        "second"
      ]
    },
    {
      "cell_type": "markdown",
      "id": "spiritual-scenario",
      "metadata": {
        "tags": [],
        "id": "spiritual-scenario"
      },
      "source": [
        "To find out what other units are defined, type `units.` (including the period) in the next cell.\n",
        "\n",
        "If you are on Colab, a pop-up menu should appear with a list of units.\n",
        "In other Jupyter environments, you might have to press `TAB` to get the menu."
      ]
    },
    {
      "cell_type": "code",
      "execution_count": 17,
      "id": "saving-suggestion",
      "metadata": {
        "tags": [],
        "id": "saving-suggestion"
      },
      "outputs": [],
      "source": []
    },
    {
      "cell_type": "markdown",
      "id": "everyday-location",
      "metadata": {
        "id": "everyday-location"
      },
      "source": [
        "We can use `meter` and `second` to create a variable named `a` and give it the value of acceleration due to gravity."
      ]
    },
    {
      "cell_type": "code",
      "execution_count": 18,
      "id": "earlier-bandwidth",
      "metadata": {
        "id": "earlier-bandwidth",
        "colab": {
          "base_uri": "https://localhost:8080/",
          "height": 38
        },
        "outputId": "094dfc03-079c-42d6-ffc0-ecf20b239efe"
      },
      "outputs": [
        {
          "output_type": "execute_result",
          "data": {
            "text/plain": [
              "9.8 <Unit('meter / second ** 2')>"
            ],
            "text/html": [
              "9.8 meter/second<sup>2</sup>"
            ],
            "text/latex": "$9.8\\ \\frac{\\mathrm{meter}}{\\mathrm{second}^{2}}$"
          },
          "metadata": {},
          "execution_count": 18
        }
      ],
      "source": [
        "a = 9.8 * meter / second**2\n",
        "a"
      ]
    },
    {
      "cell_type": "markdown",
      "id": "generic-bowling",
      "metadata": {
        "id": "generic-bowling"
      },
      "source": [
        "The result is a *quantity* with two parts, called `magnitude` and `units`, which we can access like this:"
      ]
    },
    {
      "cell_type": "code",
      "execution_count": 19,
      "id": "missing-privilege",
      "metadata": {
        "id": "missing-privilege",
        "colab": {
          "base_uri": "https://localhost:8080/"
        },
        "outputId": "cccd4137-8ac6-44d7-f9f0-1ad7096ef239"
      },
      "outputs": [
        {
          "output_type": "execute_result",
          "data": {
            "text/plain": [
              "9.8"
            ]
          },
          "metadata": {},
          "execution_count": 19
        }
      ],
      "source": [
        "a.magnitude"
      ]
    },
    {
      "cell_type": "code",
      "execution_count": 20,
      "id": "fourth-swedish",
      "metadata": {
        "id": "fourth-swedish",
        "colab": {
          "base_uri": "https://localhost:8080/",
          "height": 38
        },
        "outputId": "1b33ec47-d4ef-41da-c8c1-0bd4865ce1f4"
      },
      "outputs": [
        {
          "output_type": "execute_result",
          "data": {
            "text/plain": [
              "<Unit('meter / second ** 2')>"
            ],
            "text/html": [
              "meter/second<sup>2</sup>"
            ],
            "text/latex": "$\\frac{\\mathrm{meter}}{\\mathrm{second}^{2}}$"
          },
          "metadata": {},
          "execution_count": 20
        }
      ],
      "source": [
        "a.units"
      ]
    },
    {
      "cell_type": "markdown",
      "id": "realistic-techno",
      "metadata": {
        "id": "realistic-techno"
      },
      "source": [
        "We can also create a quantity that represents $3.4$ s."
      ]
    },
    {
      "cell_type": "code",
      "execution_count": 21,
      "id": "apart-france",
      "metadata": {
        "id": "apart-france",
        "colab": {
          "base_uri": "https://localhost:8080/",
          "height": 34
        },
        "outputId": "c32ce072-05f8-4610-ea8c-696f152053b0"
      },
      "outputs": [
        {
          "output_type": "execute_result",
          "data": {
            "text/plain": [
              "3.4 <Unit('second')>"
            ],
            "text/html": [
              "3.4 second"
            ],
            "text/latex": "$3.4\\ \\mathrm{second}$"
          },
          "metadata": {},
          "execution_count": 21
        }
      ],
      "source": [
        "t = 3.4 * second\n",
        "t"
      ]
    },
    {
      "cell_type": "markdown",
      "id": "severe-share",
      "metadata": {
        "id": "severe-share"
      },
      "source": [
        "And use it to compute the distance a penny would fall after `t` seconds with constant acceleration `a`.  "
      ]
    },
    {
      "cell_type": "code",
      "execution_count": 22,
      "id": "alien-scout",
      "metadata": {
        "id": "alien-scout",
        "colab": {
          "base_uri": "https://localhost:8080/",
          "height": 34
        },
        "outputId": "c3899ee5-67ac-452a-f024-d28f51ad07e3"
      },
      "outputs": [
        {
          "output_type": "execute_result",
          "data": {
            "text/plain": [
              "56.644 <Unit('meter')>"
            ],
            "text/html": [
              "56.644 meter"
            ],
            "text/latex": "$56.644\\ \\mathrm{meter}$"
          },
          "metadata": {},
          "execution_count": 22
        }
      ],
      "source": [
        "a * t**2 / 2"
      ]
    },
    {
      "cell_type": "markdown",
      "id": "wicked-indianapolis",
      "metadata": {
        "id": "wicked-indianapolis"
      },
      "source": [
        "Notice that the units of the result are correct.\n",
        "If we create a quantity to represent the height of the Empire State Building:"
      ]
    },
    {
      "cell_type": "code",
      "execution_count": 23,
      "id": "confidential-costs",
      "metadata": {
        "id": "confidential-costs"
      },
      "outputs": [],
      "source": [
        "h = 381 * meter"
      ]
    },
    {
      "cell_type": "markdown",
      "id": "hollow-programmer",
      "metadata": {
        "id": "hollow-programmer"
      },
      "source": [
        "We can use it to compute the time the penny would take to reach the sidewalk."
      ]
    },
    {
      "cell_type": "code",
      "execution_count": 24,
      "id": "studied-opera",
      "metadata": {
        "id": "studied-opera",
        "colab": {
          "base_uri": "https://localhost:8080/",
          "height": 34
        },
        "outputId": "24958aa4-8b21-4716-e34c-15ce03aeea44"
      },
      "outputs": [
        {
          "output_type": "execute_result",
          "data": {
            "text/plain": [
              "8.817885349720552 <Unit('second')>"
            ],
            "text/html": [
              "8.817885349720552 second"
            ],
            "text/latex": "$8.817885349720552\\ \\mathrm{second}$"
          },
          "metadata": {},
          "execution_count": 24
        }
      ],
      "source": [
        "t = sqrt(2 * h / a)\n",
        "t"
      ]
    },
    {
      "cell_type": "markdown",
      "id": "seasonal-laser",
      "metadata": {
        "id": "seasonal-laser"
      },
      "source": [
        "And the velocity of the penny on impact:"
      ]
    },
    {
      "cell_type": "code",
      "execution_count": 25,
      "id": "exterior-greek",
      "metadata": {
        "id": "exterior-greek",
        "colab": {
          "base_uri": "https://localhost:8080/",
          "height": 34
        },
        "outputId": "703f3a65-3ba3-4429-d4fc-835ded889465"
      },
      "outputs": [
        {
          "output_type": "execute_result",
          "data": {
            "text/plain": [
              "86.41527642726142 <Unit('meter / second')>"
            ],
            "text/html": [
              "86.41527642726142 meter/second"
            ],
            "text/latex": "$86.41527642726142\\ \\frac{\\mathrm{meter}}{\\mathrm{second}}$"
          },
          "metadata": {},
          "execution_count": 25
        }
      ],
      "source": [
        "v = a * t\n",
        "v"
      ]
    },
    {
      "cell_type": "code",
      "execution_count": 26,
      "id": "impaired-puzzle",
      "metadata": {
        "tags": [],
        "id": "impaired-puzzle"
      },
      "outputs": [],
      "source": [
        "assert abs(v.magnitude - 86.41527642726142) < 1e-7"
      ]
    },
    {
      "cell_type": "markdown",
      "id": "superior-biography",
      "metadata": {
        "id": "superior-biography"
      },
      "source": [
        "As in the previous section, the result is about $86$, but now it has the correct units, m/s.\n",
        "\n",
        "With Pint quantities, we can convert from one set of units to another like this:"
      ]
    },
    {
      "cell_type": "code",
      "execution_count": 27,
      "id": "antique-landing",
      "metadata": {
        "id": "antique-landing"
      },
      "outputs": [],
      "source": [
        "mile = units.mile\n",
        "hour = units.hour"
      ]
    },
    {
      "cell_type": "code",
      "execution_count": 28,
      "id": "included-failure",
      "metadata": {
        "id": "included-failure",
        "colab": {
          "base_uri": "https://localhost:8080/",
          "height": 34
        },
        "outputId": "8f804d94-7d22-4e51-a5f0-a5205ee6d931"
      },
      "outputs": [
        {
          "output_type": "execute_result",
          "data": {
            "text/plain": [
              "193.30546802805432 <Unit('mile / hour')>"
            ],
            "text/html": [
              "193.30546802805432 mile/hour"
            ],
            "text/latex": "$193.30546802805432\\ \\frac{\\mathrm{mile}}{\\mathrm{hour}}$"
          },
          "metadata": {},
          "execution_count": 28
        }
      ],
      "source": [
        "v.to(mile/hour)"
      ]
    },
    {
      "cell_type": "markdown",
      "id": "progressive-charleston",
      "metadata": {
        "id": "progressive-charleston"
      },
      "source": [
        "If you are more familiar with miles per hour, this result might be easier to interpret.\n",
        "And it might give you a sense that this model is not realistic."
      ]
    },
    {
      "cell_type": "markdown",
      "id": "continuing-democrat",
      "metadata": {
        "id": "continuing-democrat"
      },
      "source": [
        "## Summary\n",
        "\n",
        "This chapter introduces a modeling framework that consists of three steps:\n",
        "\n",
        "* Abstraction is the process of defining a model by deciding which elements of the real world to include and which can be left out.\n",
        "\n",
        "* Analysis and simulation are ways to use a model to generate predictions, explain why things behave as they do, and design things that behave as we want.\n",
        "\n",
        "* Validation is how we test whether the model is right, often by comparing predictions with measurements from the real world.\n",
        "\n",
        "As a first example, we modeled a penny dropped from the Empire State building, including gravity but ignoring air resistance.\n",
        "In the exercises, you'll have a chance to try a better model, including air resistance.\n",
        "\n",
        "This chapter also presents Pint, a library for doing computation with units, which is convenient for converting between different units and helpful for avoiding catastrophic errors."
      ]
    },
    {
      "cell_type": "markdown",
      "id": "thousand-equation",
      "metadata": {
        "id": "thousand-equation"
      },
      "source": [
        "## Exercises\n",
        "\n",
        "Before you go on, you might want to work on the following exercises."
      ]
    },
    {
      "cell_type": "markdown",
      "id": "periodic-objective",
      "metadata": {
        "id": "periodic-objective"
      },
      "source": [
        "### Exercise 1\n",
        "\n",
        "In mathematical notation, we can write an equation like $v = a t$ and it's understood that we are multiplying $a$ and $t$.\n",
        "But that doesn't work in Python.  If you put two variables side-by-side, like this:\n",
        "\n",
        "```\n",
        "v = a t\n",
        "```\n",
        "\n",
        "you'll get a *syntax error*, which means that something is wrong with the structure of the program. Try it out so you see what the error message looks like."
      ]
    },
    {
      "cell_type": "code",
      "execution_count": 29,
      "id": "exempt-delight",
      "metadata": {
        "tags": [],
        "id": "exempt-delight",
        "colab": {
          "base_uri": "https://localhost:8080/",
          "height": 34
        },
        "outputId": "7eea6eb2-f612-401c-e21a-a9f8085602d4"
      },
      "outputs": [
        {
          "output_type": "execute_result",
          "data": {
            "text/plain": [
              "33.32 <Unit('meter / second')>"
            ],
            "text/html": [
              "33.32 meter/second"
            ],
            "text/latex": "$33.32\\ \\frac{\\mathrm{meter}}{\\mathrm{second}}$"
          },
          "metadata": {},
          "execution_count": 29
        }
      ],
      "source": [
        "a = 9.8 * meter / second**2\n",
        "t = 3.4 * second\n",
        "\n",
        "v = a * t\n",
        "v"
      ]
    },
    {
      "cell_type": "markdown",
      "id": "pressing-sugar",
      "metadata": {
        "id": "pressing-sugar"
      },
      "source": [
        "### Exercise 2\n",
        "\n",
        "In this chapter we used the `sqrt` function from the NumPy library.  NumPy also provides a variable named `pi` that contains an approximation of the mathematical constant $\\pi$.\n",
        "We can import it like this:"
      ]
    },
    {
      "cell_type": "code",
      "execution_count": 30,
      "id": "legal-observer",
      "metadata": {
        "id": "legal-observer",
        "colab": {
          "base_uri": "https://localhost:8080/"
        },
        "outputId": "b7e93e01-bc3e-4ee1-900c-1342083f24b7"
      },
      "outputs": [
        {
          "output_type": "execute_result",
          "data": {
            "text/plain": [
              "3.141592653589793"
            ]
          },
          "metadata": {},
          "execution_count": 30
        }
      ],
      "source": [
        "from numpy import pi\n",
        "pi"
      ]
    },
    {
      "cell_type": "markdown",
      "id": "aggregate-mambo",
      "metadata": {
        "id": "aggregate-mambo"
      },
      "source": [
        "NumPy provides other functions we'll use, including `log`, `exp`, `sin`, and `cos`.\n",
        "Import `sin` and `cos` from NumPy and compute\n",
        "\n",
        "$$sin^2 (\\pi/4) + cos^2 (\\pi/4)$$\n",
        "\n",
        "Note: A mathematical identity tells us that the answer should be $1$."
      ]
    },
    {
      "cell_type": "code",
      "execution_count": 31,
      "id": "pressing-belgium",
      "metadata": {
        "id": "pressing-belgium"
      },
      "outputs": [],
      "source": [
        "# Solution goes here\n",
        "from numpy import sin, cos"
      ]
    },
    {
      "cell_type": "code",
      "source": [
        "sin(pi/4)**2+cos(pi/4)**2"
      ],
      "metadata": {
        "colab": {
          "base_uri": "https://localhost:8080/"
        },
        "id": "JnjA9BnMXNZk",
        "outputId": "5e15b8ef-a436-4da8-e810-fc24ab61c240"
      },
      "id": "JnjA9BnMXNZk",
      "execution_count": 32,
      "outputs": [
        {
          "output_type": "execute_result",
          "data": {
            "text/plain": [
              "1.0"
            ]
          },
          "metadata": {},
          "execution_count": 32
        }
      ]
    },
    {
      "cell_type": "markdown",
      "id": "unlimited-delivery",
      "metadata": {
        "id": "unlimited-delivery"
      },
      "source": [
        "### Exercise 3\n",
        "\n",
        "Suppose you bring a 10 foot pole to the top of the Empire State Building and use it to drop the penny from `h` plus 10 feet.\n",
        "\n",
        "Define a variable named `foot` that contains the unit `foot` provided by the `UnitRegistry` we called `units`.  Define a variable named `pole_height` and give it the value 10 feet.\n",
        "\n",
        "What happens if you add `h`, which is in units of meters, to `pole_height`, which is in units of feet?  What happens if you write the addition the other way around?"
      ]
    },
    {
      "cell_type": "code",
      "execution_count": 33,
      "id": "inner-equivalent",
      "metadata": {
        "id": "inner-equivalent"
      },
      "outputs": [],
      "source": [
        "h = 381 * meter"
      ]
    },
    {
      "cell_type": "code",
      "execution_count": 34,
      "id": "nuclear-thirty",
      "metadata": {
        "id": "nuclear-thirty",
        "colab": {
          "base_uri": "https://localhost:8080/",
          "height": 34
        },
        "outputId": "14e29bf9-27dd-4c64-91e2-dd1ff29fd0af"
      },
      "outputs": [
        {
          "output_type": "execute_result",
          "data": {
            "text/plain": [
              "1260.0 <Unit('foot')>"
            ],
            "text/html": [
              "1260.0 foot"
            ],
            "text/latex": "$1260.0\\ \\mathrm{foot}$"
          },
          "metadata": {},
          "execution_count": 34
        }
      ],
      "source": [
        "# Solution goes here\n",
        "foot = units.foot\n",
        "pole_height = 10*foot\n",
        "pole_height+h"
      ]
    },
    {
      "cell_type": "code",
      "execution_count": 35,
      "id": "available-steering",
      "metadata": {
        "id": "available-steering",
        "colab": {
          "base_uri": "https://localhost:8080/",
          "height": 34
        },
        "outputId": "e0d18d51-090e-4176-c99c-8f4a4c5e0795"
      },
      "outputs": [
        {
          "output_type": "execute_result",
          "data": {
            "text/plain": [
              "384.048 <Unit('meter')>"
            ],
            "text/html": [
              "384.048 meter"
            ],
            "text/latex": "$384.048\\ \\mathrm{meter}$"
          },
          "metadata": {},
          "execution_count": 35
        }
      ],
      "source": [
        "# Solution goes here\n",
        "h+pole_height"
      ]
    },
    {
      "cell_type": "markdown",
      "id": "aggressive-climate",
      "metadata": {
        "id": "aggressive-climate"
      },
      "source": [
        "### Exercise 4\n",
        "\n",
        "Why would it be nonsensical to add `a` and `t`? What happens if you try?"
      ]
    },
    {
      "cell_type": "code",
      "execution_count": 36,
      "id": "documentary-doctrine",
      "metadata": {
        "id": "documentary-doctrine"
      },
      "outputs": [],
      "source": [
        "a = 9.8 * meter / second**2\n",
        "t = 3.4 * second"
      ]
    },
    {
      "cell_type": "code",
      "execution_count": 37,
      "id": "primary-partner",
      "metadata": {
        "id": "primary-partner",
        "colab": {
          "base_uri": "https://localhost:8080/",
          "height": 321
        },
        "outputId": "ba4468dd-93ba-461b-f837-086a3ef027a0"
      },
      "outputs": [
        {
          "output_type": "error",
          "ename": "DimensionalityError",
          "evalue": "ignored",
          "traceback": [
            "\u001b[0;31m---------------------------------------------------------------------------\u001b[0m",
            "\u001b[0;31mDimensionalityError\u001b[0m                       Traceback (most recent call last)",
            "\u001b[0;32m<ipython-input-37-81d780eb5b7a>\u001b[0m in \u001b[0;36m<cell line: 1>\u001b[0;34m()\u001b[0m\n\u001b[0;32m----> 1\u001b[0;31m \u001b[0ma\u001b[0m\u001b[0;34m+\u001b[0m\u001b[0mt\u001b[0m\u001b[0;34m\u001b[0m\u001b[0;34m\u001b[0m\u001b[0m\n\u001b[0m",
            "\u001b[0;32m/usr/local/lib/python3.10/dist-packages/pint/facets/plain/quantity.py\u001b[0m in \u001b[0;36m__add__\u001b[0;34m(self, other)\u001b[0m\n\u001b[1;32m    827\u001b[0m             \u001b[0;32mreturn\u001b[0m \u001b[0mself\u001b[0m\u001b[0;34m.\u001b[0m\u001b[0mto_timedelta\u001b[0m\u001b[0;34m(\u001b[0m\u001b[0;34m)\u001b[0m \u001b[0;34m+\u001b[0m \u001b[0mother\u001b[0m\u001b[0;34m\u001b[0m\u001b[0;34m\u001b[0m\u001b[0m\n\u001b[1;32m    828\u001b[0m \u001b[0;34m\u001b[0m\u001b[0m\n\u001b[0;32m--> 829\u001b[0;31m         \u001b[0;32mreturn\u001b[0m \u001b[0mself\u001b[0m\u001b[0;34m.\u001b[0m\u001b[0m_add_sub\u001b[0m\u001b[0;34m(\u001b[0m\u001b[0mother\u001b[0m\u001b[0;34m,\u001b[0m \u001b[0moperator\u001b[0m\u001b[0;34m.\u001b[0m\u001b[0madd\u001b[0m\u001b[0;34m)\u001b[0m\u001b[0;34m\u001b[0m\u001b[0;34m\u001b[0m\u001b[0m\n\u001b[0m\u001b[1;32m    830\u001b[0m \u001b[0;34m\u001b[0m\u001b[0m\n\u001b[1;32m    831\u001b[0m     \u001b[0m__radd__\u001b[0m \u001b[0;34m=\u001b[0m \u001b[0m__add__\u001b[0m\u001b[0;34m\u001b[0m\u001b[0;34m\u001b[0m\u001b[0m\n",
            "\u001b[0;32m/usr/local/lib/python3.10/dist-packages/pint/facets/plain/quantity.py\u001b[0m in \u001b[0;36mwrapped\u001b[0;34m(self, *args, **kwargs)\u001b[0m\n\u001b[1;32m     98\u001b[0m         \u001b[0;32melif\u001b[0m \u001b[0misinstance\u001b[0m\u001b[0;34m(\u001b[0m\u001b[0mother\u001b[0m\u001b[0;34m,\u001b[0m \u001b[0mlist\u001b[0m\u001b[0;34m)\u001b[0m \u001b[0;32mand\u001b[0m \u001b[0mother\u001b[0m \u001b[0;32mand\u001b[0m \u001b[0misinstance\u001b[0m\u001b[0;34m(\u001b[0m\u001b[0mother\u001b[0m\u001b[0;34m[\u001b[0m\u001b[0;36m0\u001b[0m\u001b[0;34m]\u001b[0m\u001b[0;34m,\u001b[0m \u001b[0mtype\u001b[0m\u001b[0;34m(\u001b[0m\u001b[0mself\u001b[0m\u001b[0;34m)\u001b[0m\u001b[0;34m)\u001b[0m\u001b[0;34m:\u001b[0m\u001b[0;34m\u001b[0m\u001b[0;34m\u001b[0m\u001b[0m\n\u001b[1;32m     99\u001b[0m             \u001b[0;32mreturn\u001b[0m \u001b[0mNotImplemented\u001b[0m\u001b[0;34m\u001b[0m\u001b[0;34m\u001b[0m\u001b[0m\n\u001b[0;32m--> 100\u001b[0;31m         \u001b[0;32mreturn\u001b[0m \u001b[0mf\u001b[0m\u001b[0;34m(\u001b[0m\u001b[0mself\u001b[0m\u001b[0;34m,\u001b[0m \u001b[0;34m*\u001b[0m\u001b[0margs\u001b[0m\u001b[0;34m,\u001b[0m \u001b[0;34m**\u001b[0m\u001b[0mkwargs\u001b[0m\u001b[0;34m)\u001b[0m\u001b[0;34m\u001b[0m\u001b[0;34m\u001b[0m\u001b[0m\n\u001b[0m\u001b[1;32m    101\u001b[0m \u001b[0;34m\u001b[0m\u001b[0m\n\u001b[1;32m    102\u001b[0m     \u001b[0;32mreturn\u001b[0m \u001b[0mwrapped\u001b[0m\u001b[0;34m\u001b[0m\u001b[0;34m\u001b[0m\u001b[0m\n",
            "\u001b[0;32m/usr/local/lib/python3.10/dist-packages/pint/facets/plain/quantity.py\u001b[0m in \u001b[0;36m_add_sub\u001b[0;34m(self, other, op)\u001b[0m\n\u001b[1;32m    729\u001b[0m \u001b[0;34m\u001b[0m\u001b[0m\n\u001b[1;32m    730\u001b[0m         \u001b[0;32mif\u001b[0m \u001b[0;32mnot\u001b[0m \u001b[0mself\u001b[0m\u001b[0;34m.\u001b[0m\u001b[0mdimensionality\u001b[0m \u001b[0;34m==\u001b[0m \u001b[0mother\u001b[0m\u001b[0;34m.\u001b[0m\u001b[0mdimensionality\u001b[0m\u001b[0;34m:\u001b[0m\u001b[0;34m\u001b[0m\u001b[0;34m\u001b[0m\u001b[0m\n\u001b[0;32m--> 731\u001b[0;31m             raise DimensionalityError(\n\u001b[0m\u001b[1;32m    732\u001b[0m                 \u001b[0mself\u001b[0m\u001b[0;34m.\u001b[0m\u001b[0m_units\u001b[0m\u001b[0;34m,\u001b[0m \u001b[0mother\u001b[0m\u001b[0;34m.\u001b[0m\u001b[0m_units\u001b[0m\u001b[0;34m,\u001b[0m \u001b[0mself\u001b[0m\u001b[0;34m.\u001b[0m\u001b[0mdimensionality\u001b[0m\u001b[0;34m,\u001b[0m \u001b[0mother\u001b[0m\u001b[0;34m.\u001b[0m\u001b[0mdimensionality\u001b[0m\u001b[0;34m\u001b[0m\u001b[0;34m\u001b[0m\u001b[0m\n\u001b[1;32m    733\u001b[0m             )\n",
            "\u001b[0;31mDimensionalityError\u001b[0m: Cannot convert from 'meter / second ** 2' ([length] / [time] ** 2) to 'second' ([time])"
          ]
        }
      ],
      "source": [
        "a+t"
      ]
    },
    {
      "cell_type": "markdown",
      "id": "legal-audio",
      "metadata": {
        "id": "legal-audio"
      },
      "source": [
        "In this example, you should get a `DimensionalityError`, which indicates that you have violated a rule of dimensional analysis: you cannot add quantities with different dimensions.\n",
        "\n",
        "The error messages you get from Python are big and scary, but if you read them carefully, they contain a lot of useful information.\n",
        "\n",
        "The last line usually tells you what type of error happened, and sometimes additional information, so you might want to start from the bottom and read up.\n",
        "\n",
        "The previous lines are a *traceback* of what was happening when the error occurred.  The first section of the traceback shows the code you wrote.  The following sections are often from Python libraries."
      ]
    },
    {
      "cell_type": "markdown",
      "id": "steady-chancellor",
      "metadata": {
        "tags": [],
        "id": "steady-chancellor"
      },
      "source": [
        "Before you go on, you might want to delete the erroneous code so the notebook can run without errors."
      ]
    },
    {
      "cell_type": "markdown",
      "id": "valid-empire",
      "metadata": {
        "id": "valid-empire"
      },
      "source": [
        "### Exercise 5\n",
        "\n",
        "Suppose instead of dropping the penny, you throw it downward at its terminal velocity, $29$ m/s.  How long would it take to fall $381$ m?"
      ]
    },
    {
      "cell_type": "code",
      "execution_count": 38,
      "id": "greenhouse-reason",
      "metadata": {
        "id": "greenhouse-reason"
      },
      "outputs": [],
      "source": [
        "# Solution goes here\n",
        "v = 29 * (meter/second)\n",
        "h = 381 * (meter)"
      ]
    },
    {
      "cell_type": "code",
      "source": [
        "t = h/v"
      ],
      "metadata": {
        "id": "uE8tXxDXY_SW"
      },
      "id": "uE8tXxDXY_SW",
      "execution_count": 39,
      "outputs": []
    },
    {
      "cell_type": "code",
      "source": [
        "t"
      ],
      "metadata": {
        "id": "-UYFRLccZC9o",
        "colab": {
          "base_uri": "https://localhost:8080/",
          "height": 34
        },
        "outputId": "d8dfacae-8411-4b44-f4bd-3e61a316c1ea"
      },
      "id": "-UYFRLccZC9o",
      "execution_count": 40,
      "outputs": [
        {
          "output_type": "execute_result",
          "data": {
            "text/plain": [
              "13.137931034482758 <Unit('second')>"
            ],
            "text/html": [
              "13.137931034482758 second"
            ],
            "text/latex": "$13.137931034482758\\ \\mathrm{second}$"
          },
          "metadata": {},
          "execution_count": 40
        }
      ]
    },
    {
      "cell_type": "markdown",
      "id": "asian-murray",
      "metadata": {
        "id": "asian-murray"
      },
      "source": [
        "### Exercise 6:\n",
        "\n",
        "So far we have considered two models of a falling penny:\n",
        "\n",
        "* If we ignore air resistance, the penny falls with constant acceleration, and we can compute the time to reach the sidewalk and the velocity of the penny when it gets there.\n",
        "\n",
        "* If we take air resistance into account, and drop the penny at its terminal velocity, it falls with constant velocity.\n",
        "\n",
        "Now let's consider a third model that includes elements of the first two: let's assume that the acceleration of the penny is `a` until the penny reaches $29$ m/s, and then $0$ m/s$^2$ afterwards.  What is the total time for the penny to fall $381$ m?"
      ]
    },
    {
      "cell_type": "markdown",
      "id": "detailed-minnesota",
      "metadata": {
        "id": "detailed-minnesota"
      },
      "source": [
        "You can break this question into three parts:\n",
        "\n",
        "1. How long would the penny take to reach $29$ m/s with constant acceleration `a`.\n",
        "2. How far would it fall during that time?\n",
        "3. How long would it take to fall the remaining distance with constant velocity $29$ m/s?\n",
        "\n",
        "Suggestion: Assign each intermediate result to a variable with a meaningful name.  And assign units to all quantities!"
      ]
    },
    {
      "cell_type": "code",
      "execution_count": 41,
      "id": "secure-crowd",
      "metadata": {
        "id": "secure-crowd"
      },
      "outputs": [],
      "source": [
        "a = 9.8 * meter / second**2\n",
        "h = 381 * meter"
      ]
    },
    {
      "cell_type": "code",
      "execution_count": 42,
      "id": "thirty-minneapolis",
      "metadata": {
        "id": "thirty-minneapolis",
        "colab": {
          "base_uri": "https://localhost:8080/",
          "height": 34
        },
        "outputId": "38bcb154-2fbb-490c-9a9d-438d973054cf"
      },
      "outputs": [
        {
          "output_type": "execute_result",
          "data": {
            "text/plain": [
              "2.9591836734693877 <Unit('second')>"
            ],
            "text/html": [
              "2.9591836734693877 second"
            ],
            "text/latex": "$2.9591836734693877\\ \\mathrm{second}$"
          },
          "metadata": {},
          "execution_count": 42
        }
      ],
      "source": [
        "# Solution goes here\n",
        "t = v/a\n",
        "t"
      ]
    },
    {
      "cell_type": "code",
      "execution_count": 43,
      "id": "premier-seeking",
      "metadata": {
        "id": "premier-seeking",
        "colab": {
          "base_uri": "https://localhost:8080/",
          "height": 34
        },
        "outputId": "c231999a-d9e6-4785-cbc7-51a2adf94550"
      },
      "outputs": [
        {
          "output_type": "execute_result",
          "data": {
            "text/plain": [
              "42.90816326530612 <Unit('meter')>"
            ],
            "text/html": [
              "42.90816326530612 meter"
            ],
            "text/latex": "$42.90816326530612\\ \\mathrm{meter}$"
          },
          "metadata": {},
          "execution_count": 43
        }
      ],
      "source": [
        "# Solution goes here\n",
        "h_1 = a*(t**2)/2\n",
        "h_1"
      ]
    },
    {
      "cell_type": "code",
      "execution_count": 44,
      "id": "brave-laundry",
      "metadata": {
        "id": "brave-laundry",
        "colab": {
          "base_uri": "https://localhost:8080/",
          "height": 34
        },
        "outputId": "3b1b36ea-d6fe-4728-96e0-3cbfe6b038ab"
      },
      "outputs": [
        {
          "output_type": "execute_result",
          "data": {
            "text/plain": [
              "11.658339197748065 <Unit('second')>"
            ],
            "text/html": [
              "11.658339197748065 second"
            ],
            "text/latex": "$11.658339197748065\\ \\mathrm{second}$"
          },
          "metadata": {},
          "execution_count": 44
        }
      ],
      "source": [
        "# Solution goes here\n",
        "t_1 = (h-h_1)/v\n",
        "t_1"
      ]
    },
    {
      "cell_type": "code",
      "source": [
        "t = t+t_1\n",
        "t"
      ],
      "metadata": {
        "id": "bMukf4E2b03O",
        "colab": {
          "base_uri": "https://localhost:8080/",
          "height": 34
        },
        "outputId": "19f661a0-5192-42ae-fd26-8d1a823a6cdd"
      },
      "id": "bMukf4E2b03O",
      "execution_count": 45,
      "outputs": [
        {
          "output_type": "execute_result",
          "data": {
            "text/plain": [
              "14.617522871217453 <Unit('second')>"
            ],
            "text/html": [
              "14.617522871217453 second"
            ],
            "text/latex": "$14.617522871217453\\ \\mathrm{second}$"
          },
          "metadata": {},
          "execution_count": 45
        }
      ]
    },
    {
      "cell_type": "markdown",
      "id": "composed-tunnel",
      "metadata": {
        "id": "composed-tunnel"
      },
      "source": [
        "### Exercise 7\n",
        "\n",
        "When I was in high school, the pitcher on the baseball team claimed that when he threw a fastball he was throwing the ball down; that is, the ball left his hand at a downward angle.\n",
        "I was skeptical; watching from the side, I thought the ball left his hand at an upward angle.\n",
        "\n",
        "Can you think of a simple model you could use to settle the argument?  What factors would you include and what could you ignore?  What quantities would you have to look up or estimate?\n",
        "\n",
        "I suggest you convert all quantities to SI units like meters and seconds (see <https://en.wikipedia.org/wiki/International_System_of_Units>)."
      ]
    },
    {
      "cell_type": "code",
      "execution_count": 46,
      "id": "about-complex",
      "metadata": {
        "id": "about-complex"
      },
      "outputs": [],
      "source": [
        "# Solution goes here\n",
        "# Solution\n",
        "\n",
        "# I suggest the following model:\n",
        "\n",
        "# 1. Let's ignore the motion of the ball toward home plate and\n",
        "#    think about how far the ball would drop while it's in flight.\n",
        "\n",
        "# 2. Let's ignore air resistance.  Since we are only thinking\n",
        "#    about the relatively slow motion in the vertical direction,\n",
        "#    this is probably a good assumption.\n",
        "\n",
        "# 3. Let's also ignore the effect of spin.  This is probably a\n",
        "#    less good assumption.\n",
        "\n",
        "# The distance from the pitcher's mound to home plate is about 60\n",
        "# feet, but the point where the ball is released is a bit closer.\n",
        "\n",
        "# An average pitcher in high school might be able to throw a ball\n",
        "# at 80 mph."
      ]
    },
    {
      "cell_type": "code",
      "execution_count": 47,
      "id": "unique-owner",
      "metadata": {
        "id": "unique-owner"
      },
      "outputs": [],
      "source": [
        "# Solution goes here\n",
        "# Solution\n",
        "\n",
        "v = (80 * mile / hour).to(meter/second)\n",
        "x = (60 * foot).to(meter)"
      ]
    },
    {
      "cell_type": "code",
      "execution_count": 48,
      "id": "minus-batman",
      "metadata": {
        "id": "minus-batman",
        "colab": {
          "base_uri": "https://localhost:8080/",
          "height": 34
        },
        "outputId": "58b3d1bb-bace-49ac-e3f3-53864bf437f7"
      },
      "outputs": [
        {
          "output_type": "execute_result",
          "data": {
            "text/plain": [
              "0.5113636363636362 <Unit('second')>"
            ],
            "text/html": [
              "0.5113636363636362 second"
            ],
            "text/latex": "$0.5113636363636362\\ \\mathrm{second}$"
          },
          "metadata": {},
          "execution_count": 48
        }
      ],
      "source": [
        "# Solution goes here\n",
        "# Solution\n",
        "\n",
        "t = x / v\n",
        "t"
      ]
    },
    {
      "cell_type": "code",
      "execution_count": 49,
      "id": "exact-vegetable",
      "metadata": {
        "id": "exact-vegetable",
        "colab": {
          "base_uri": "https://localhost:8080/",
          "height": 34
        },
        "outputId": "5fb54ba9-d4bc-49c1-a1d3-ceb028e4b862"
      },
      "outputs": [
        {
          "output_type": "execute_result",
          "data": {
            "text/plain": [
              "1.2813145661157022 <Unit('meter')>"
            ],
            "text/html": [
              "1.2813145661157022 meter"
            ],
            "text/latex": "$1.2813145661157022\\ \\mathrm{meter}$"
          },
          "metadata": {},
          "execution_count": 49
        }
      ],
      "source": [
        "# Solution goes here\n",
        "# Solution\n",
        "\n",
        "a = 9.8 * meter / second**2\n",
        "h = a * t**2 / 2\n",
        "h"
      ]
    },
    {
      "cell_type": "code",
      "execution_count": 50,
      "id": "neutral-lightning",
      "metadata": {
        "id": "neutral-lightning"
      },
      "outputs": [],
      "source": [
        "# Solution goes here\n",
        "# Solution\n",
        "\n",
        "# In the time it takes the ball to reach home plate, it drops\n",
        "# about 1.3 m.  If the release point is at 2 m, which is plausible,\n",
        "# it would cross the plate at 0.7 m, which is in the strike zone.\n",
        "\n",
        "# So I could be wrong -- it is plausible that the ball leaves\n",
        "# the pitcher's hand at a downward angle, at least for some pitches."
      ]
    },
    {
      "cell_type": "markdown",
      "id": "jewish-secret",
      "metadata": {
        "id": "jewish-secret"
      },
      "source": [
        "### Exercise 8\n",
        "\n",
        "Suppose I run a 10K race in 44:52 (44 minutes and 52 seconds).  What is my average pace in minutes per mile?"
      ]
    },
    {
      "cell_type": "code",
      "execution_count": 51,
      "id": "virgin-cambodia",
      "metadata": {
        "id": "virgin-cambodia"
      },
      "outputs": [],
      "source": [
        "mile = units.mile\n",
        "kilometer = units.kilometer\n",
        "minute = units.minute"
      ]
    },
    {
      "cell_type": "code",
      "execution_count": 52,
      "id": "right-intention",
      "metadata": {
        "id": "right-intention",
        "colab": {
          "base_uri": "https://localhost:8080/",
          "height": 34
        },
        "outputId": "846e4213-f33e-4c84-accf-1670f47ca2b9"
      },
      "outputs": [
        {
          "output_type": "execute_result",
          "data": {
            "text/plain": [
              "2692 <Unit('second')>"
            ],
            "text/html": [
              "2692 second"
            ],
            "text/latex": "$2692\\ \\mathrm{second}$"
          },
          "metadata": {},
          "execution_count": 52
        }
      ],
      "source": [
        "# Solution goes here\n",
        "t = 52 * second + 44 * minute\n",
        "t"
      ]
    },
    {
      "cell_type": "code",
      "execution_count": 53,
      "id": "mineral-sally",
      "metadata": {
        "id": "mineral-sally",
        "colab": {
          "base_uri": "https://localhost:8080/",
          "height": 34
        },
        "outputId": "3731c153-3202-4a81-f447-cf3f44061a1a"
      },
      "outputs": [
        {
          "output_type": "execute_result",
          "data": {
            "text/plain": [
              "0.003714710252600297 <Unit('kilometer / second')>"
            ],
            "text/html": [
              "0.003714710252600297 kilometer/second"
            ],
            "text/latex": "$0.003714710252600297\\ \\frac{\\mathrm{kilometer}}{\\mathrm{second}}$"
          },
          "metadata": {},
          "execution_count": 53
        }
      ],
      "source": [
        "# Solution goes here\n",
        "v = 10 * kilometer / t\n",
        "v"
      ]
    },
    {
      "cell_type": "code",
      "execution_count": 54,
      "id": "coral-camel",
      "metadata": {
        "id": "coral-camel",
        "colab": {
          "base_uri": "https://localhost:8080/",
          "height": 34
        },
        "outputId": "430bf0a5-3d5a-4b67-a273-ce4da150ace5"
      },
      "outputs": [
        {
          "output_type": "execute_result",
          "data": {
            "text/plain": [
              "269.2 <Unit('second / kilometer')>"
            ],
            "text/html": [
              "269.2 second/kilometer"
            ],
            "text/latex": "$269.2\\ \\frac{\\mathrm{second}}{\\mathrm{kilometer}}$"
          },
          "metadata": {},
          "execution_count": 54
        }
      ],
      "source": [
        "# Solution goes here\n",
        "# Solution\n",
        "\n",
        "pace_per_km = (1 / v)\n",
        "pace_per_km"
      ]
    },
    {
      "cell_type": "code",
      "execution_count": 55,
      "id": "effective-rendering",
      "metadata": {
        "id": "effective-rendering",
        "colab": {
          "base_uri": "https://localhost:8080/",
          "height": 34
        },
        "outputId": "cdb82530-3bff-4640-b218-d8bd6e3b73b5"
      },
      "outputs": [
        {
          "output_type": "execute_result",
          "data": {
            "text/plain": [
              "7.220590080000001 <Unit('minute / mile')>"
            ],
            "text/html": [
              "7.220590080000001 minute/mile"
            ],
            "text/latex": "$7.220590080000001\\ \\frac{\\mathrm{minute}}{\\mathrm{mile}}$"
          },
          "metadata": {},
          "execution_count": 55
        }
      ],
      "source": [
        "# Solution goes here\n",
        "# Solution\n",
        "\n",
        "pace_per_mile = pace_per_km.to(minute / mile)\n",
        "pace_per_mile"
      ]
    },
    {
      "cell_type": "code",
      "execution_count": 56,
      "id": "printable-reply",
      "metadata": {
        "id": "printable-reply",
        "colab": {
          "base_uri": "https://localhost:8080/",
          "height": 34
        },
        "outputId": "4a0b362d-e4f5-4285-8f73-906d6a91415f"
      },
      "outputs": [
        {
          "output_type": "execute_result",
          "data": {
            "text/plain": [
              "7.0 <Unit('minute / mile')>"
            ],
            "text/html": [
              "7.0 minute/mile"
            ],
            "text/latex": "$7.0\\ \\frac{\\mathrm{minute}}{\\mathrm{mile}}$"
          },
          "metadata": {},
          "execution_count": 56
        }
      ],
      "source": [
        "# Solution goes here\n",
        "# Solution\n",
        "\n",
        "# To convert to minutes and seconds, we can use np.round.\n",
        "# But we haven't covered that yet.\n",
        "\n",
        "from numpy import round\n",
        "\n",
        "round(pace_per_mile)"
      ]
    },
    {
      "cell_type": "code",
      "source": [
        "# Solution\n",
        "\n",
        "remainder = pace_per_mile - round(pace_per_mile)\n",
        "remainder.to(second/mile)"
      ],
      "metadata": {
        "id": "gsjdZFU5cju8",
        "colab": {
          "base_uri": "https://localhost:8080/",
          "height": 34
        },
        "outputId": "7ec02393-0af4-4ca9-9f16-d9abeb744854"
      },
      "id": "gsjdZFU5cju8",
      "execution_count": 57,
      "outputs": [
        {
          "output_type": "execute_result",
          "data": {
            "text/plain": [
              "13.235404800000055 <Unit('second / mile')>"
            ],
            "text/html": [
              "13.235404800000055 second/mile"
            ],
            "text/latex": "$13.235404800000055\\ \\frac{\\mathrm{second}}{\\mathrm{mile}}$"
          },
          "metadata": {},
          "execution_count": 57
        }
      ]
    },
    {
      "cell_type": "markdown",
      "id": "environmental-wallet",
      "metadata": {
        "tags": [],
        "id": "environmental-wallet"
      },
      "source": [
        "## More Jupyter\n",
        "\n",
        "You can add and remove cells from a notebook using the buttons in the toolbar and the items in the menu, both of which you should see at the top of this notebook.\n",
        "\n",
        "Try the following exercises:\n",
        "\n",
        "1.  From the Insert menu select \"Insert cell below\" to add a cell below this one.  By default, you get a code cell, as you can see in the pulldown menu that says \"Code\".\n",
        "\n",
        "2.  In the new cell, add a print statement like `print('Hello')`, and run it.\n",
        "\n",
        "3.  Add another cell, select the new cell, and then click on the pulldown menu that says \"Code\" and select \"Markdown\".  This makes the new cell a text cell.\n",
        "\n",
        "4.  In the new cell, type some text, and then run it.\n",
        "\n",
        "5.  Use the arrow buttons in the toolbar to move cells up and down.\n",
        "\n",
        "6.  Use the cut, copy, and paste buttons to delete, add, and move cells.\n",
        "\n",
        "7.  As you make changes, Jupyter saves your notebook automatically, but if you want to make sure, you can press the save button, which looks like a floppy disk from the 1990s.\n",
        "\n",
        "8.  Finally, when you are done with a notebook, select \"Close and Halt\" from the File menu."
      ]
    },
    {
      "cell_type": "markdown",
      "id": "successful-kentucky",
      "metadata": {
        "tags": [],
        "id": "successful-kentucky"
      },
      "source": [
        "When you change the contents of a cell, you have to run it again for those changes to have an effect.  If you forget to do that, the results can be confusing, because the code you are looking at is not the code you ran.\n",
        "\n",
        "If you ever lose track of which cells have run, and in what order, you should go to the Kernel menu and select \"Restart & Run All\".  Restarting the kernel means that all of your variables get deleted, and running all the cells means all of your code will run again, in the right order.\n",
        "\n",
        "Select \"Restart & Run All\" now and confirm that it runs all of the cells."
      ]
    },
    {
      "cell_type": "code",
      "execution_count": null,
      "id": "weighted-quebec",
      "metadata": {
        "id": "weighted-quebec"
      },
      "outputs": [],
      "source": []
    }
  ],
  "metadata": {
    "celltoolbar": "Tags",
    "kernelspec": {
      "display_name": "Python 3 (ipykernel)",
      "language": "python",
      "name": "python3"
    },
    "language_info": {
      "codemirror_mode": {
        "name": "ipython",
        "version": 3
      },
      "file_extension": ".py",
      "mimetype": "text/x-python",
      "name": "python",
      "nbconvert_exporter": "python",
      "pygments_lexer": "ipython3",
      "version": "3.8.16"
    },
    "colab": {
      "provenance": []
    }
  },
  "nbformat": 4,
  "nbformat_minor": 5
}