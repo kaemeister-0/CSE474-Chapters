{
  "cells": [
    {
      "cell_type": "code",
      "execution_count": 1,
      "id": "electoral-turkey",
      "metadata": {
        "tags": [
          "remove-cell"
        ],
        "colab": {
          "base_uri": "https://localhost:8080/"
        },
        "id": "electoral-turkey",
        "outputId": "945b3eec-91f2-423c-9de2-ed1f4c9976b6"
      },
      "outputs": [
        {
          "output_type": "stream",
          "name": "stdout",
          "text": [
            "Collecting pint\n",
            "  Downloading Pint-0.22-py3-none-any.whl (294 kB)\n",
            "\u001b[2K     \u001b[90m━━━━━━━━━━━━━━━━━━━━━━━━━━━━━━━━━━━━━━━━\u001b[0m \u001b[32m294.0/294.0 kB\u001b[0m \u001b[31m4.0 MB/s\u001b[0m eta \u001b[36m0:00:00\u001b[0m\n",
            "\u001b[?25hRequirement already satisfied: typing-extensions in /usr/local/lib/python3.10/dist-packages (from pint) (4.5.0)\n",
            "Installing collected packages: pint\n",
            "Successfully installed pint-0.22\n"
          ]
        }
      ],
      "source": [
        "# install Pint if necessary\n",
        "\n",
        "try:\n",
        "    import pint\n",
        "except ImportError:\n",
        "    !pip install pint"
      ]
    },
    {
      "cell_type": "code",
      "execution_count": 2,
      "id": "formal-context",
      "metadata": {
        "tags": [
          "remove-cell"
        ],
        "colab": {
          "base_uri": "https://localhost:8080/"
        },
        "id": "formal-context",
        "outputId": "408786d9-4c5b-4263-bc4c-afb6da3d3cbb"
      },
      "outputs": [
        {
          "output_type": "stream",
          "name": "stdout",
          "text": [
            "Downloaded modsim.py\n"
          ]
        }
      ],
      "source": [
        "# download modsim.py if necessary\n",
        "\n",
        "from os.path import basename, exists\n",
        "\n",
        "def download(url):\n",
        "    filename = basename(url)\n",
        "    if not exists(filename):\n",
        "        from urllib.request import urlretrieve\n",
        "        local, _ = urlretrieve(url, filename)\n",
        "        print('Downloaded ' + local)\n",
        "\n",
        "download('https://raw.githubusercontent.com/AllenDowney/' +\n",
        "         'ModSimPy/master/modsim.py')"
      ]
    },
    {
      "cell_type": "code",
      "execution_count": 3,
      "id": "progressive-typing",
      "metadata": {
        "tags": [
          "remove-cell"
        ],
        "id": "progressive-typing"
      },
      "outputs": [],
      "source": [
        "# import functions from modsim\n",
        "\n",
        "from modsim import *"
      ]
    },
    {
      "cell_type": "code",
      "execution_count": 4,
      "id": "embedded-heavy",
      "metadata": {
        "id": "embedded-heavy"
      },
      "outputs": [],
      "source": [
        "def bike_to_wellesley():\n",
        "    bikeshare.olin -= 1\n",
        "    bikeshare.wellesley += 1"
      ]
    },
    {
      "cell_type": "code",
      "execution_count": 5,
      "id": "unusual-advancement",
      "metadata": {
        "id": "unusual-advancement"
      },
      "outputs": [],
      "source": [
        "def bike_to_wellesley(state):\n",
        "    state.olin -= 1\n",
        "    state.wellesley += 1"
      ]
    },
    {
      "cell_type": "code",
      "execution_count": 6,
      "id": "packed-hungarian",
      "metadata": {
        "id": "packed-hungarian"
      },
      "outputs": [],
      "source": [
        "bikeshare = State(olin=10, wellesley=2)\n",
        "bike_to_wellesley(bikeshare)"
      ]
    },
    {
      "cell_type": "code",
      "execution_count": 7,
      "id": "right-assessment",
      "metadata": {
        "id": "right-assessment"
      },
      "outputs": [],
      "source": [
        "bikeshare1 = State(olin=10, wellesley=2)\n",
        "bikeshare2 = State(olin=2, wellesley=10)"
      ]
    },
    {
      "cell_type": "code",
      "execution_count": 8,
      "id": "cleared-advocacy",
      "metadata": {
        "id": "cleared-advocacy"
      },
      "outputs": [],
      "source": [
        "bike_to_wellesley(bikeshare1)\n",
        "bike_to_wellesley(bikeshare2)"
      ]
    },
    {
      "cell_type": "code",
      "execution_count": 9,
      "id": "moral-parallel",
      "metadata": {
        "id": "moral-parallel"
      },
      "outputs": [],
      "source": [
        "def bike_to_olin(state):\n",
        "    \"\"\"Move one bike from Wellesley to Olin.\n",
        "\n",
        "    state: bikeshare State object\n",
        "    \"\"\"\n",
        "    # We decrease one state variable and increase the\n",
        "    # other so the total number of bikes is unchanged.\n",
        "    state.wellesley -= 1\n",
        "    state.olin += 1"
      ]
    },
    {
      "cell_type": "code",
      "execution_count": 10,
      "id": "divine-leisure",
      "metadata": {
        "id": "divine-leisure"
      },
      "outputs": [],
      "source": [
        "def bike_to_olin(state):\n",
        "    if state.wellesley == 0:\n",
        "        return\n",
        "    state.wellesley -= 1\n",
        "    state.olin += 1"
      ]
    },
    {
      "cell_type": "code",
      "execution_count": 11,
      "id": "choice-cooking",
      "metadata": {
        "id": "choice-cooking"
      },
      "outputs": [],
      "source": [
        "bikeshare = State(olin=12, wellesley=0)\n",
        "bike_to_olin(bikeshare)"
      ]
    },
    {
      "cell_type": "code",
      "execution_count": 12,
      "id": "twelve-moderator",
      "metadata": {
        "colab": {
          "base_uri": "https://localhost:8080/",
          "height": 112
        },
        "id": "twelve-moderator",
        "outputId": "7671e134-2b5f-420d-dc95-b654c3024080"
      },
      "outputs": [
        {
          "output_type": "execute_result",
          "data": {
            "text/plain": [
              "           state\n",
              "olin          12\n",
              "wellesley      0"
            ],
            "text/html": [
              "\n",
              "  <div id=\"df-010db917-2294-41c2-af1c-0af2d800a153\" class=\"colab-df-container\">\n",
              "    <div>\n",
              "<style scoped>\n",
              "    .dataframe tbody tr th:only-of-type {\n",
              "        vertical-align: middle;\n",
              "    }\n",
              "\n",
              "    .dataframe tbody tr th {\n",
              "        vertical-align: top;\n",
              "    }\n",
              "\n",
              "    .dataframe thead th {\n",
              "        text-align: right;\n",
              "    }\n",
              "</style>\n",
              "<table border=\"1\" class=\"dataframe\">\n",
              "  <thead>\n",
              "    <tr style=\"text-align: right;\">\n",
              "      <th></th>\n",
              "      <th>state</th>\n",
              "    </tr>\n",
              "  </thead>\n",
              "  <tbody>\n",
              "    <tr>\n",
              "      <th>olin</th>\n",
              "      <td>12</td>\n",
              "    </tr>\n",
              "    <tr>\n",
              "      <th>wellesley</th>\n",
              "      <td>0</td>\n",
              "    </tr>\n",
              "  </tbody>\n",
              "</table>\n",
              "</div>\n",
              "    <div class=\"colab-df-buttons\">\n",
              "\n",
              "  <div class=\"colab-df-container\">\n",
              "    <button class=\"colab-df-convert\" onclick=\"convertToInteractive('df-010db917-2294-41c2-af1c-0af2d800a153')\"\n",
              "            title=\"Convert this dataframe to an interactive table.\"\n",
              "            style=\"display:none;\">\n",
              "\n",
              "  <svg xmlns=\"http://www.w3.org/2000/svg\" height=\"24px\" viewBox=\"0 -960 960 960\">\n",
              "    <path d=\"M120-120v-720h720v720H120Zm60-500h600v-160H180v160Zm220 220h160v-160H400v160Zm0 220h160v-160H400v160ZM180-400h160v-160H180v160Zm440 0h160v-160H620v160ZM180-180h160v-160H180v160Zm440 0h160v-160H620v160Z\"/>\n",
              "  </svg>\n",
              "    </button>\n",
              "\n",
              "  <style>\n",
              "    .colab-df-container {\n",
              "      display:flex;\n",
              "      gap: 12px;\n",
              "    }\n",
              "\n",
              "    .colab-df-convert {\n",
              "      background-color: #E8F0FE;\n",
              "      border: none;\n",
              "      border-radius: 50%;\n",
              "      cursor: pointer;\n",
              "      display: none;\n",
              "      fill: #1967D2;\n",
              "      height: 32px;\n",
              "      padding: 0 0 0 0;\n",
              "      width: 32px;\n",
              "    }\n",
              "\n",
              "    .colab-df-convert:hover {\n",
              "      background-color: #E2EBFA;\n",
              "      box-shadow: 0px 1px 2px rgba(60, 64, 67, 0.3), 0px 1px 3px 1px rgba(60, 64, 67, 0.15);\n",
              "      fill: #174EA6;\n",
              "    }\n",
              "\n",
              "    .colab-df-buttons div {\n",
              "      margin-bottom: 4px;\n",
              "    }\n",
              "\n",
              "    [theme=dark] .colab-df-convert {\n",
              "      background-color: #3B4455;\n",
              "      fill: #D2E3FC;\n",
              "    }\n",
              "\n",
              "    [theme=dark] .colab-df-convert:hover {\n",
              "      background-color: #434B5C;\n",
              "      box-shadow: 0px 1px 3px 1px rgba(0, 0, 0, 0.15);\n",
              "      filter: drop-shadow(0px 1px 2px rgba(0, 0, 0, 0.3));\n",
              "      fill: #FFFFFF;\n",
              "    }\n",
              "  </style>\n",
              "\n",
              "    <script>\n",
              "      const buttonEl =\n",
              "        document.querySelector('#df-010db917-2294-41c2-af1c-0af2d800a153 button.colab-df-convert');\n",
              "      buttonEl.style.display =\n",
              "        google.colab.kernel.accessAllowed ? 'block' : 'none';\n",
              "\n",
              "      async function convertToInteractive(key) {\n",
              "        const element = document.querySelector('#df-010db917-2294-41c2-af1c-0af2d800a153');\n",
              "        const dataTable =\n",
              "          await google.colab.kernel.invokeFunction('convertToInteractive',\n",
              "                                                    [key], {});\n",
              "        if (!dataTable) return;\n",
              "\n",
              "        const docLinkHtml = 'Like what you see? Visit the ' +\n",
              "          '<a target=\"_blank\" href=https://colab.research.google.com/notebooks/data_table.ipynb>data table notebook</a>'\n",
              "          + ' to learn more about interactive tables.';\n",
              "        element.innerHTML = '';\n",
              "        dataTable['output_type'] = 'display_data';\n",
              "        await google.colab.output.renderOutput(dataTable, element);\n",
              "        const docLink = document.createElement('div');\n",
              "        docLink.innerHTML = docLinkHtml;\n",
              "        element.appendChild(docLink);\n",
              "      }\n",
              "    </script>\n",
              "  </div>\n",
              "\n",
              "\n",
              "<div id=\"df-38723bff-bd5b-4de9-8b9f-1136f18311d5\">\n",
              "  <button class=\"colab-df-quickchart\" onclick=\"quickchart('df-38723bff-bd5b-4de9-8b9f-1136f18311d5')\"\n",
              "            title=\"Suggest charts\"\n",
              "            style=\"display:none;\">\n",
              "\n",
              "<svg xmlns=\"http://www.w3.org/2000/svg\" height=\"24px\"viewBox=\"0 0 24 24\"\n",
              "     width=\"24px\">\n",
              "    <g>\n",
              "        <path d=\"M19 3H5c-1.1 0-2 .9-2 2v14c0 1.1.9 2 2 2h14c1.1 0 2-.9 2-2V5c0-1.1-.9-2-2-2zM9 17H7v-7h2v7zm4 0h-2V7h2v10zm4 0h-2v-4h2v4z\"/>\n",
              "    </g>\n",
              "</svg>\n",
              "  </button>\n",
              "\n",
              "<style>\n",
              "  .colab-df-quickchart {\n",
              "      --bg-color: #E8F0FE;\n",
              "      --fill-color: #1967D2;\n",
              "      --hover-bg-color: #E2EBFA;\n",
              "      --hover-fill-color: #174EA6;\n",
              "      --disabled-fill-color: #AAA;\n",
              "      --disabled-bg-color: #DDD;\n",
              "  }\n",
              "\n",
              "  [theme=dark] .colab-df-quickchart {\n",
              "      --bg-color: #3B4455;\n",
              "      --fill-color: #D2E3FC;\n",
              "      --hover-bg-color: #434B5C;\n",
              "      --hover-fill-color: #FFFFFF;\n",
              "      --disabled-bg-color: #3B4455;\n",
              "      --disabled-fill-color: #666;\n",
              "  }\n",
              "\n",
              "  .colab-df-quickchart {\n",
              "    background-color: var(--bg-color);\n",
              "    border: none;\n",
              "    border-radius: 50%;\n",
              "    cursor: pointer;\n",
              "    display: none;\n",
              "    fill: var(--fill-color);\n",
              "    height: 32px;\n",
              "    padding: 0;\n",
              "    width: 32px;\n",
              "  }\n",
              "\n",
              "  .colab-df-quickchart:hover {\n",
              "    background-color: var(--hover-bg-color);\n",
              "    box-shadow: 0 1px 2px rgba(60, 64, 67, 0.3), 0 1px 3px 1px rgba(60, 64, 67, 0.15);\n",
              "    fill: var(--button-hover-fill-color);\n",
              "  }\n",
              "\n",
              "  .colab-df-quickchart-complete:disabled,\n",
              "  .colab-df-quickchart-complete:disabled:hover {\n",
              "    background-color: var(--disabled-bg-color);\n",
              "    fill: var(--disabled-fill-color);\n",
              "    box-shadow: none;\n",
              "  }\n",
              "\n",
              "  .colab-df-spinner {\n",
              "    border: 2px solid var(--fill-color);\n",
              "    border-color: transparent;\n",
              "    border-bottom-color: var(--fill-color);\n",
              "    animation:\n",
              "      spin 1s steps(1) infinite;\n",
              "  }\n",
              "\n",
              "  @keyframes spin {\n",
              "    0% {\n",
              "      border-color: transparent;\n",
              "      border-bottom-color: var(--fill-color);\n",
              "      border-left-color: var(--fill-color);\n",
              "    }\n",
              "    20% {\n",
              "      border-color: transparent;\n",
              "      border-left-color: var(--fill-color);\n",
              "      border-top-color: var(--fill-color);\n",
              "    }\n",
              "    30% {\n",
              "      border-color: transparent;\n",
              "      border-left-color: var(--fill-color);\n",
              "      border-top-color: var(--fill-color);\n",
              "      border-right-color: var(--fill-color);\n",
              "    }\n",
              "    40% {\n",
              "      border-color: transparent;\n",
              "      border-right-color: var(--fill-color);\n",
              "      border-top-color: var(--fill-color);\n",
              "    }\n",
              "    60% {\n",
              "      border-color: transparent;\n",
              "      border-right-color: var(--fill-color);\n",
              "    }\n",
              "    80% {\n",
              "      border-color: transparent;\n",
              "      border-right-color: var(--fill-color);\n",
              "      border-bottom-color: var(--fill-color);\n",
              "    }\n",
              "    90% {\n",
              "      border-color: transparent;\n",
              "      border-bottom-color: var(--fill-color);\n",
              "    }\n",
              "  }\n",
              "</style>\n",
              "\n",
              "  <script>\n",
              "    async function quickchart(key) {\n",
              "      const quickchartButtonEl =\n",
              "        document.querySelector('#' + key + ' button');\n",
              "      quickchartButtonEl.disabled = true;  // To prevent multiple clicks.\n",
              "      quickchartButtonEl.classList.add('colab-df-spinner');\n",
              "      try {\n",
              "        const charts = await google.colab.kernel.invokeFunction(\n",
              "            'suggestCharts', [key], {});\n",
              "      } catch (error) {\n",
              "        console.error('Error during call to suggestCharts:', error);\n",
              "      }\n",
              "      quickchartButtonEl.classList.remove('colab-df-spinner');\n",
              "      quickchartButtonEl.classList.add('colab-df-quickchart-complete');\n",
              "    }\n",
              "    (() => {\n",
              "      let quickchartButtonEl =\n",
              "        document.querySelector('#df-38723bff-bd5b-4de9-8b9f-1136f18311d5 button');\n",
              "      quickchartButtonEl.style.display =\n",
              "        google.colab.kernel.accessAllowed ? 'block' : 'none';\n",
              "    })();\n",
              "  </script>\n",
              "</div>\n",
              "    </div>\n",
              "  </div>\n"
            ]
          },
          "metadata": {},
          "execution_count": 12
        }
      ],
      "source": [
        "show(bikeshare)"
      ]
    },
    {
      "cell_type": "code",
      "execution_count": 13,
      "id": "level-burns",
      "metadata": {
        "id": "level-burns"
      },
      "outputs": [],
      "source": [
        "x = 5"
      ]
    },
    {
      "cell_type": "code",
      "execution_count": 14,
      "id": "civic-remains",
      "metadata": {
        "colab": {
          "base_uri": "https://localhost:8080/"
        },
        "id": "civic-remains",
        "outputId": "b28043ca-264f-4610-998d-82271b1d9727"
      },
      "outputs": [
        {
          "output_type": "execute_result",
          "data": {
            "text/plain": [
              "True"
            ]
          },
          "metadata": {},
          "execution_count": 14
        }
      ],
      "source": [
        "x == 5"
      ]
    },
    {
      "cell_type": "code",
      "execution_count": 15,
      "id": "affecting-naples",
      "metadata": {
        "colab": {
          "base_uri": "https://localhost:8080/"
        },
        "id": "affecting-naples",
        "outputId": "6556c7a5-a4d5-4738-e0a1-562f489e9033"
      },
      "outputs": [
        {
          "output_type": "stream",
          "name": "stdout",
          "text": [
            "yes, x is 5\n"
          ]
        }
      ],
      "source": [
        "if x == 5:\n",
        "    print('yes, x is 5')"
      ]
    },
    {
      "cell_type": "code",
      "execution_count": 16,
      "id": "arbitrary-ferry",
      "metadata": {
        "id": "arbitrary-ferry"
      },
      "outputs": [],
      "source": [
        "def bike_to_olin(state):\n",
        "    if state.wellesley == 0:\n",
        "        state.wellesley_empty += 1\n",
        "        return\n",
        "    state.wellesley -= 1\n",
        "    state.olin += 1"
      ]
    },
    {
      "cell_type": "code",
      "execution_count": 17,
      "id": "cardiovascular-montgomery",
      "metadata": {
        "id": "cardiovascular-montgomery"
      },
      "outputs": [],
      "source": [
        "bikeshare = State(olin=12, wellesley=0,\n",
        "                  wellesley_empty=0)"
      ]
    },
    {
      "cell_type": "markdown",
      "id": "computational-prior",
      "metadata": {
        "id": "computational-prior"
      },
      "source": [
        "We can test it by calling `bike_to_olin`:"
      ]
    },
    {
      "cell_type": "code",
      "execution_count": 18,
      "id": "cosmetic-above",
      "metadata": {
        "scrolled": true,
        "id": "cosmetic-above"
      },
      "outputs": [],
      "source": [
        "bike_to_olin(bikeshare)"
      ]
    },
    {
      "cell_type": "markdown",
      "id": "pleased-gasoline",
      "metadata": {
        "id": "pleased-gasoline"
      },
      "source": [
        "After this update, there should be 12 bikes at Olin, no bikes at Wellesley, and one unhappy customer."
      ]
    },
    {
      "cell_type": "code",
      "execution_count": 19,
      "id": "bulgarian-palestine",
      "metadata": {
        "colab": {
          "base_uri": "https://localhost:8080/",
          "height": 143
        },
        "id": "bulgarian-palestine",
        "outputId": "e0a39dec-393a-45dd-ab7b-3555ae534da2"
      },
      "outputs": [
        {
          "output_type": "execute_result",
          "data": {
            "text/plain": [
              "                 state\n",
              "olin                12\n",
              "wellesley            0\n",
              "wellesley_empty      1"
            ],
            "text/html": [
              "\n",
              "  <div id=\"df-f2ac88ce-a9a2-4f0c-aa67-bf6b9ac3ced6\" class=\"colab-df-container\">\n",
              "    <div>\n",
              "<style scoped>\n",
              "    .dataframe tbody tr th:only-of-type {\n",
              "        vertical-align: middle;\n",
              "    }\n",
              "\n",
              "    .dataframe tbody tr th {\n",
              "        vertical-align: top;\n",
              "    }\n",
              "\n",
              "    .dataframe thead th {\n",
              "        text-align: right;\n",
              "    }\n",
              "</style>\n",
              "<table border=\"1\" class=\"dataframe\">\n",
              "  <thead>\n",
              "    <tr style=\"text-align: right;\">\n",
              "      <th></th>\n",
              "      <th>state</th>\n",
              "    </tr>\n",
              "  </thead>\n",
              "  <tbody>\n",
              "    <tr>\n",
              "      <th>olin</th>\n",
              "      <td>12</td>\n",
              "    </tr>\n",
              "    <tr>\n",
              "      <th>wellesley</th>\n",
              "      <td>0</td>\n",
              "    </tr>\n",
              "    <tr>\n",
              "      <th>wellesley_empty</th>\n",
              "      <td>1</td>\n",
              "    </tr>\n",
              "  </tbody>\n",
              "</table>\n",
              "</div>\n",
              "    <div class=\"colab-df-buttons\">\n",
              "\n",
              "  <div class=\"colab-df-container\">\n",
              "    <button class=\"colab-df-convert\" onclick=\"convertToInteractive('df-f2ac88ce-a9a2-4f0c-aa67-bf6b9ac3ced6')\"\n",
              "            title=\"Convert this dataframe to an interactive table.\"\n",
              "            style=\"display:none;\">\n",
              "\n",
              "  <svg xmlns=\"http://www.w3.org/2000/svg\" height=\"24px\" viewBox=\"0 -960 960 960\">\n",
              "    <path d=\"M120-120v-720h720v720H120Zm60-500h600v-160H180v160Zm220 220h160v-160H400v160Zm0 220h160v-160H400v160ZM180-400h160v-160H180v160Zm440 0h160v-160H620v160ZM180-180h160v-160H180v160Zm440 0h160v-160H620v160Z\"/>\n",
              "  </svg>\n",
              "    </button>\n",
              "\n",
              "  <style>\n",
              "    .colab-df-container {\n",
              "      display:flex;\n",
              "      gap: 12px;\n",
              "    }\n",
              "\n",
              "    .colab-df-convert {\n",
              "      background-color: #E8F0FE;\n",
              "      border: none;\n",
              "      border-radius: 50%;\n",
              "      cursor: pointer;\n",
              "      display: none;\n",
              "      fill: #1967D2;\n",
              "      height: 32px;\n",
              "      padding: 0 0 0 0;\n",
              "      width: 32px;\n",
              "    }\n",
              "\n",
              "    .colab-df-convert:hover {\n",
              "      background-color: #E2EBFA;\n",
              "      box-shadow: 0px 1px 2px rgba(60, 64, 67, 0.3), 0px 1px 3px 1px rgba(60, 64, 67, 0.15);\n",
              "      fill: #174EA6;\n",
              "    }\n",
              "\n",
              "    .colab-df-buttons div {\n",
              "      margin-bottom: 4px;\n",
              "    }\n",
              "\n",
              "    [theme=dark] .colab-df-convert {\n",
              "      background-color: #3B4455;\n",
              "      fill: #D2E3FC;\n",
              "    }\n",
              "\n",
              "    [theme=dark] .colab-df-convert:hover {\n",
              "      background-color: #434B5C;\n",
              "      box-shadow: 0px 1px 3px 1px rgba(0, 0, 0, 0.15);\n",
              "      filter: drop-shadow(0px 1px 2px rgba(0, 0, 0, 0.3));\n",
              "      fill: #FFFFFF;\n",
              "    }\n",
              "  </style>\n",
              "\n",
              "    <script>\n",
              "      const buttonEl =\n",
              "        document.querySelector('#df-f2ac88ce-a9a2-4f0c-aa67-bf6b9ac3ced6 button.colab-df-convert');\n",
              "      buttonEl.style.display =\n",
              "        google.colab.kernel.accessAllowed ? 'block' : 'none';\n",
              "\n",
              "      async function convertToInteractive(key) {\n",
              "        const element = document.querySelector('#df-f2ac88ce-a9a2-4f0c-aa67-bf6b9ac3ced6');\n",
              "        const dataTable =\n",
              "          await google.colab.kernel.invokeFunction('convertToInteractive',\n",
              "                                                    [key], {});\n",
              "        if (!dataTable) return;\n",
              "\n",
              "        const docLinkHtml = 'Like what you see? Visit the ' +\n",
              "          '<a target=\"_blank\" href=https://colab.research.google.com/notebooks/data_table.ipynb>data table notebook</a>'\n",
              "          + ' to learn more about interactive tables.';\n",
              "        element.innerHTML = '';\n",
              "        dataTable['output_type'] = 'display_data';\n",
              "        await google.colab.output.renderOutput(dataTable, element);\n",
              "        const docLink = document.createElement('div');\n",
              "        docLink.innerHTML = docLinkHtml;\n",
              "        element.appendChild(docLink);\n",
              "      }\n",
              "    </script>\n",
              "  </div>\n",
              "\n",
              "\n",
              "<div id=\"df-9c0d4bde-9788-4c39-8172-b2783d7257ca\">\n",
              "  <button class=\"colab-df-quickchart\" onclick=\"quickchart('df-9c0d4bde-9788-4c39-8172-b2783d7257ca')\"\n",
              "            title=\"Suggest charts\"\n",
              "            style=\"display:none;\">\n",
              "\n",
              "<svg xmlns=\"http://www.w3.org/2000/svg\" height=\"24px\"viewBox=\"0 0 24 24\"\n",
              "     width=\"24px\">\n",
              "    <g>\n",
              "        <path d=\"M19 3H5c-1.1 0-2 .9-2 2v14c0 1.1.9 2 2 2h14c1.1 0 2-.9 2-2V5c0-1.1-.9-2-2-2zM9 17H7v-7h2v7zm4 0h-2V7h2v10zm4 0h-2v-4h2v4z\"/>\n",
              "    </g>\n",
              "</svg>\n",
              "  </button>\n",
              "\n",
              "<style>\n",
              "  .colab-df-quickchart {\n",
              "      --bg-color: #E8F0FE;\n",
              "      --fill-color: #1967D2;\n",
              "      --hover-bg-color: #E2EBFA;\n",
              "      --hover-fill-color: #174EA6;\n",
              "      --disabled-fill-color: #AAA;\n",
              "      --disabled-bg-color: #DDD;\n",
              "  }\n",
              "\n",
              "  [theme=dark] .colab-df-quickchart {\n",
              "      --bg-color: #3B4455;\n",
              "      --fill-color: #D2E3FC;\n",
              "      --hover-bg-color: #434B5C;\n",
              "      --hover-fill-color: #FFFFFF;\n",
              "      --disabled-bg-color: #3B4455;\n",
              "      --disabled-fill-color: #666;\n",
              "  }\n",
              "\n",
              "  .colab-df-quickchart {\n",
              "    background-color: var(--bg-color);\n",
              "    border: none;\n",
              "    border-radius: 50%;\n",
              "    cursor: pointer;\n",
              "    display: none;\n",
              "    fill: var(--fill-color);\n",
              "    height: 32px;\n",
              "    padding: 0;\n",
              "    width: 32px;\n",
              "  }\n",
              "\n",
              "  .colab-df-quickchart:hover {\n",
              "    background-color: var(--hover-bg-color);\n",
              "    box-shadow: 0 1px 2px rgba(60, 64, 67, 0.3), 0 1px 3px 1px rgba(60, 64, 67, 0.15);\n",
              "    fill: var(--button-hover-fill-color);\n",
              "  }\n",
              "\n",
              "  .colab-df-quickchart-complete:disabled,\n",
              "  .colab-df-quickchart-complete:disabled:hover {\n",
              "    background-color: var(--disabled-bg-color);\n",
              "    fill: var(--disabled-fill-color);\n",
              "    box-shadow: none;\n",
              "  }\n",
              "\n",
              "  .colab-df-spinner {\n",
              "    border: 2px solid var(--fill-color);\n",
              "    border-color: transparent;\n",
              "    border-bottom-color: var(--fill-color);\n",
              "    animation:\n",
              "      spin 1s steps(1) infinite;\n",
              "  }\n",
              "\n",
              "  @keyframes spin {\n",
              "    0% {\n",
              "      border-color: transparent;\n",
              "      border-bottom-color: var(--fill-color);\n",
              "      border-left-color: var(--fill-color);\n",
              "    }\n",
              "    20% {\n",
              "      border-color: transparent;\n",
              "      border-left-color: var(--fill-color);\n",
              "      border-top-color: var(--fill-color);\n",
              "    }\n",
              "    30% {\n",
              "      border-color: transparent;\n",
              "      border-left-color: var(--fill-color);\n",
              "      border-top-color: var(--fill-color);\n",
              "      border-right-color: var(--fill-color);\n",
              "    }\n",
              "    40% {\n",
              "      border-color: transparent;\n",
              "      border-right-color: var(--fill-color);\n",
              "      border-top-color: var(--fill-color);\n",
              "    }\n",
              "    60% {\n",
              "      border-color: transparent;\n",
              "      border-right-color: var(--fill-color);\n",
              "    }\n",
              "    80% {\n",
              "      border-color: transparent;\n",
              "      border-right-color: var(--fill-color);\n",
              "      border-bottom-color: var(--fill-color);\n",
              "    }\n",
              "    90% {\n",
              "      border-color: transparent;\n",
              "      border-bottom-color: var(--fill-color);\n",
              "    }\n",
              "  }\n",
              "</style>\n",
              "\n",
              "  <script>\n",
              "    async function quickchart(key) {\n",
              "      const quickchartButtonEl =\n",
              "        document.querySelector('#' + key + ' button');\n",
              "      quickchartButtonEl.disabled = true;  // To prevent multiple clicks.\n",
              "      quickchartButtonEl.classList.add('colab-df-spinner');\n",
              "      try {\n",
              "        const charts = await google.colab.kernel.invokeFunction(\n",
              "            'suggestCharts', [key], {});\n",
              "      } catch (error) {\n",
              "        console.error('Error during call to suggestCharts:', error);\n",
              "      }\n",
              "      quickchartButtonEl.classList.remove('colab-df-spinner');\n",
              "      quickchartButtonEl.classList.add('colab-df-quickchart-complete');\n",
              "    }\n",
              "    (() => {\n",
              "      let quickchartButtonEl =\n",
              "        document.querySelector('#df-9c0d4bde-9788-4c39-8172-b2783d7257ca button');\n",
              "      quickchartButtonEl.style.display =\n",
              "        google.colab.kernel.accessAllowed ? 'block' : 'none';\n",
              "    })();\n",
              "  </script>\n",
              "</div>\n",
              "    </div>\n",
              "  </div>\n"
            ]
          },
          "metadata": {},
          "execution_count": 19
        }
      ],
      "source": [
        "show(bikeshare)"
      ]
    },
    {
      "cell_type": "markdown",
      "id": "revised-associate",
      "metadata": {
        "id": "revised-associate"
      },
      "source": [
        "Looks good!"
      ]
    },
    {
      "cell_type": "markdown",
      "id": "impaired-cyprus",
      "metadata": {
        "id": "impaired-cyprus"
      },
      "source": [
        "## Exercises"
      ]
    },
    {
      "cell_type": "code",
      "execution_count": 20,
      "id": "wrong-internet",
      "metadata": {
        "tags": [
          "remove-cell"
        ],
        "id": "wrong-internet"
      },
      "outputs": [],
      "source": [
        "def run_simulation(state, p1, p2, num_steps):\n",
        "    \"\"\"Simulate the given number of time steps.\n",
        "\n",
        "    state: State object\n",
        "    p1: probability of an Olin->Wellesley customer arrival\n",
        "    p2: probability of a Wellesley->Olin customer arrival\n",
        "    num_steps: number of time steps\n",
        "    \"\"\"\n",
        "    results = TimeSeries()\n",
        "    results[0] = state.olin\n",
        "\n",
        "    for i in range(num_steps):\n",
        "        step(state, p1, p2)\n",
        "        results[i+1] = state.olin\n",
        "\n",
        "    results.plot(label='Olin')\n",
        "    decorate(title='Olin-Wellesley Bikeshare',\n",
        "             xlabel='Time step (min)',\n",
        "             ylabel='Number of bikes')"
      ]
    },
    {
      "cell_type": "code",
      "execution_count": 21,
      "id": "instrumental-copyright",
      "metadata": {
        "tags": [
          "export",
          "remove-cell"
        ],
        "id": "instrumental-copyright"
      },
      "outputs": [],
      "source": [
        "def step(state, p1, p2):\n",
        "    \"\"\"Simulate one time step.\n",
        "\n",
        "    state: bikeshare State object\n",
        "    p1: probability of an Olin->Wellesley ride\n",
        "    p2: probability of a Wellesley->Olin ride\n",
        "    \"\"\"\n",
        "    if flip(p1):\n",
        "        bike_to_wellesley(state)\n",
        "\n",
        "    if flip(p2):\n",
        "        bike_to_olin(state)"
      ]
    },
    {
      "cell_type": "code",
      "execution_count": 22,
      "id": "improved-renaissance",
      "metadata": {
        "tags": [
          "export",
          "remove-cell"
        ],
        "id": "improved-renaissance"
      },
      "outputs": [],
      "source": [
        "def bike_to_olin(state):\n",
        "    \"\"\"Move one bike from Wellesley to Olin.\n",
        "\n",
        "    state: bikeshare State object\n",
        "    \"\"\"\n",
        "    if state.wellesley == 0:\n",
        "        state.wellesley_empty += 1\n",
        "        return\n",
        "    state.wellesley -= 1\n",
        "    state.olin += 1"
      ]
    },
    {
      "cell_type": "code",
      "execution_count": 23,
      "id": "unavailable-maker",
      "metadata": {
        "tags": [
          "remove-cell"
        ],
        "id": "unavailable-maker"
      },
      "outputs": [],
      "source": [
        "def bike_to_wellesley(state):\n",
        "    \"\"\"Move one bike from Olin to Wellesley.\n",
        "\n",
        "    state: bikeshare State object\n",
        "    \"\"\"\n",
        "    state.olin -= 1\n",
        "    state.wellesley += 1"
      ]
    },
    {
      "cell_type": "markdown",
      "id": "bigger-rapid",
      "metadata": {
        "id": "bigger-rapid"
      },
      "source": [
        "### Exercise 1\n",
        "\n",
        " Modify `bike_to_wellesley` so it checks whether a bike is available at Olin.  If not, it should add `1` to `olin_empty`.\n",
        "\n",
        "To test it, create a `State` that initializes `olin` and `olin_empty` to `0`, run `bike_to_wellesley`, and check the result."
      ]
    },
    {
      "cell_type": "code",
      "execution_count": 24,
      "id": "phantom-carter",
      "metadata": {
        "tags": [
          "hide-cell"
        ],
        "id": "phantom-carter"
      },
      "outputs": [],
      "source": [
        "\n",
        "def bike_to_wellesley(state):\n",
        "    \"\"\"Move one bike from Olin to Wellesley.\n",
        "\n",
        "    state: bikeshare State object\n",
        "    \"\"\"\n",
        "    if state.olin == 0:\n",
        "        state.olin_empty += 1\n",
        "        return\n",
        "    state.olin -= 1\n",
        "    state.wellesley += 1"
      ]
    },
    {
      "cell_type": "code",
      "execution_count": 25,
      "id": "adopted-contrary",
      "metadata": {
        "tags": [
          "hide-cell"
        ],
        "id": "adopted-contrary"
      },
      "outputs": [],
      "source": [
        "\n",
        "\n",
        "bikeshare = State(olin=0, wellesley=12,\n",
        "                  olin_empty=0, wellesley_empty=0)"
      ]
    },
    {
      "cell_type": "code",
      "execution_count": 26,
      "id": "comparable-natural",
      "metadata": {
        "tags": [
          "hide-cell"
        ],
        "id": "comparable-natural"
      },
      "outputs": [],
      "source": [
        "\n",
        "\n",
        "bike_to_wellesley(bikeshare)"
      ]
    },
    {
      "cell_type": "code",
      "execution_count": 27,
      "id": "attractive-amendment",
      "metadata": {
        "tags": [
          "hide-cell"
        ],
        "colab": {
          "base_uri": "https://localhost:8080/",
          "height": 175
        },
        "id": "attractive-amendment",
        "outputId": "ace50452-6f07-4dfa-a0bb-306f85b7bbae"
      },
      "outputs": [
        {
          "output_type": "execute_result",
          "data": {
            "text/plain": [
              "                 state\n",
              "olin                 0\n",
              "wellesley           12\n",
              "olin_empty           1\n",
              "wellesley_empty      0"
            ],
            "text/html": [
              "\n",
              "  <div id=\"df-5720e958-9e84-4c06-9cbd-845487ab929b\" class=\"colab-df-container\">\n",
              "    <div>\n",
              "<style scoped>\n",
              "    .dataframe tbody tr th:only-of-type {\n",
              "        vertical-align: middle;\n",
              "    }\n",
              "\n",
              "    .dataframe tbody tr th {\n",
              "        vertical-align: top;\n",
              "    }\n",
              "\n",
              "    .dataframe thead th {\n",
              "        text-align: right;\n",
              "    }\n",
              "</style>\n",
              "<table border=\"1\" class=\"dataframe\">\n",
              "  <thead>\n",
              "    <tr style=\"text-align: right;\">\n",
              "      <th></th>\n",
              "      <th>state</th>\n",
              "    </tr>\n",
              "  </thead>\n",
              "  <tbody>\n",
              "    <tr>\n",
              "      <th>olin</th>\n",
              "      <td>0</td>\n",
              "    </tr>\n",
              "    <tr>\n",
              "      <th>wellesley</th>\n",
              "      <td>12</td>\n",
              "    </tr>\n",
              "    <tr>\n",
              "      <th>olin_empty</th>\n",
              "      <td>1</td>\n",
              "    </tr>\n",
              "    <tr>\n",
              "      <th>wellesley_empty</th>\n",
              "      <td>0</td>\n",
              "    </tr>\n",
              "  </tbody>\n",
              "</table>\n",
              "</div>\n",
              "    <div class=\"colab-df-buttons\">\n",
              "\n",
              "  <div class=\"colab-df-container\">\n",
              "    <button class=\"colab-df-convert\" onclick=\"convertToInteractive('df-5720e958-9e84-4c06-9cbd-845487ab929b')\"\n",
              "            title=\"Convert this dataframe to an interactive table.\"\n",
              "            style=\"display:none;\">\n",
              "\n",
              "  <svg xmlns=\"http://www.w3.org/2000/svg\" height=\"24px\" viewBox=\"0 -960 960 960\">\n",
              "    <path d=\"M120-120v-720h720v720H120Zm60-500h600v-160H180v160Zm220 220h160v-160H400v160Zm0 220h160v-160H400v160ZM180-400h160v-160H180v160Zm440 0h160v-160H620v160ZM180-180h160v-160H180v160Zm440 0h160v-160H620v160Z\"/>\n",
              "  </svg>\n",
              "    </button>\n",
              "\n",
              "  <style>\n",
              "    .colab-df-container {\n",
              "      display:flex;\n",
              "      gap: 12px;\n",
              "    }\n",
              "\n",
              "    .colab-df-convert {\n",
              "      background-color: #E8F0FE;\n",
              "      border: none;\n",
              "      border-radius: 50%;\n",
              "      cursor: pointer;\n",
              "      display: none;\n",
              "      fill: #1967D2;\n",
              "      height: 32px;\n",
              "      padding: 0 0 0 0;\n",
              "      width: 32px;\n",
              "    }\n",
              "\n",
              "    .colab-df-convert:hover {\n",
              "      background-color: #E2EBFA;\n",
              "      box-shadow: 0px 1px 2px rgba(60, 64, 67, 0.3), 0px 1px 3px 1px rgba(60, 64, 67, 0.15);\n",
              "      fill: #174EA6;\n",
              "    }\n",
              "\n",
              "    .colab-df-buttons div {\n",
              "      margin-bottom: 4px;\n",
              "    }\n",
              "\n",
              "    [theme=dark] .colab-df-convert {\n",
              "      background-color: #3B4455;\n",
              "      fill: #D2E3FC;\n",
              "    }\n",
              "\n",
              "    [theme=dark] .colab-df-convert:hover {\n",
              "      background-color: #434B5C;\n",
              "      box-shadow: 0px 1px 3px 1px rgba(0, 0, 0, 0.15);\n",
              "      filter: drop-shadow(0px 1px 2px rgba(0, 0, 0, 0.3));\n",
              "      fill: #FFFFFF;\n",
              "    }\n",
              "  </style>\n",
              "\n",
              "    <script>\n",
              "      const buttonEl =\n",
              "        document.querySelector('#df-5720e958-9e84-4c06-9cbd-845487ab929b button.colab-df-convert');\n",
              "      buttonEl.style.display =\n",
              "        google.colab.kernel.accessAllowed ? 'block' : 'none';\n",
              "\n",
              "      async function convertToInteractive(key) {\n",
              "        const element = document.querySelector('#df-5720e958-9e84-4c06-9cbd-845487ab929b');\n",
              "        const dataTable =\n",
              "          await google.colab.kernel.invokeFunction('convertToInteractive',\n",
              "                                                    [key], {});\n",
              "        if (!dataTable) return;\n",
              "\n",
              "        const docLinkHtml = 'Like what you see? Visit the ' +\n",
              "          '<a target=\"_blank\" href=https://colab.research.google.com/notebooks/data_table.ipynb>data table notebook</a>'\n",
              "          + ' to learn more about interactive tables.';\n",
              "        element.innerHTML = '';\n",
              "        dataTable['output_type'] = 'display_data';\n",
              "        await google.colab.output.renderOutput(dataTable, element);\n",
              "        const docLink = document.createElement('div');\n",
              "        docLink.innerHTML = docLinkHtml;\n",
              "        element.appendChild(docLink);\n",
              "      }\n",
              "    </script>\n",
              "  </div>\n",
              "\n",
              "\n",
              "<div id=\"df-ead3fbc0-4edb-4b16-8c5b-0be1791dab8b\">\n",
              "  <button class=\"colab-df-quickchart\" onclick=\"quickchart('df-ead3fbc0-4edb-4b16-8c5b-0be1791dab8b')\"\n",
              "            title=\"Suggest charts\"\n",
              "            style=\"display:none;\">\n",
              "\n",
              "<svg xmlns=\"http://www.w3.org/2000/svg\" height=\"24px\"viewBox=\"0 0 24 24\"\n",
              "     width=\"24px\">\n",
              "    <g>\n",
              "        <path d=\"M19 3H5c-1.1 0-2 .9-2 2v14c0 1.1.9 2 2 2h14c1.1 0 2-.9 2-2V5c0-1.1-.9-2-2-2zM9 17H7v-7h2v7zm4 0h-2V7h2v10zm4 0h-2v-4h2v4z\"/>\n",
              "    </g>\n",
              "</svg>\n",
              "  </button>\n",
              "\n",
              "<style>\n",
              "  .colab-df-quickchart {\n",
              "      --bg-color: #E8F0FE;\n",
              "      --fill-color: #1967D2;\n",
              "      --hover-bg-color: #E2EBFA;\n",
              "      --hover-fill-color: #174EA6;\n",
              "      --disabled-fill-color: #AAA;\n",
              "      --disabled-bg-color: #DDD;\n",
              "  }\n",
              "\n",
              "  [theme=dark] .colab-df-quickchart {\n",
              "      --bg-color: #3B4455;\n",
              "      --fill-color: #D2E3FC;\n",
              "      --hover-bg-color: #434B5C;\n",
              "      --hover-fill-color: #FFFFFF;\n",
              "      --disabled-bg-color: #3B4455;\n",
              "      --disabled-fill-color: #666;\n",
              "  }\n",
              "\n",
              "  .colab-df-quickchart {\n",
              "    background-color: var(--bg-color);\n",
              "    border: none;\n",
              "    border-radius: 50%;\n",
              "    cursor: pointer;\n",
              "    display: none;\n",
              "    fill: var(--fill-color);\n",
              "    height: 32px;\n",
              "    padding: 0;\n",
              "    width: 32px;\n",
              "  }\n",
              "\n",
              "  .colab-df-quickchart:hover {\n",
              "    background-color: var(--hover-bg-color);\n",
              "    box-shadow: 0 1px 2px rgba(60, 64, 67, 0.3), 0 1px 3px 1px rgba(60, 64, 67, 0.15);\n",
              "    fill: var(--button-hover-fill-color);\n",
              "  }\n",
              "\n",
              "  .colab-df-quickchart-complete:disabled,\n",
              "  .colab-df-quickchart-complete:disabled:hover {\n",
              "    background-color: var(--disabled-bg-color);\n",
              "    fill: var(--disabled-fill-color);\n",
              "    box-shadow: none;\n",
              "  }\n",
              "\n",
              "  .colab-df-spinner {\n",
              "    border: 2px solid var(--fill-color);\n",
              "    border-color: transparent;\n",
              "    border-bottom-color: var(--fill-color);\n",
              "    animation:\n",
              "      spin 1s steps(1) infinite;\n",
              "  }\n",
              "\n",
              "  @keyframes spin {\n",
              "    0% {\n",
              "      border-color: transparent;\n",
              "      border-bottom-color: var(--fill-color);\n",
              "      border-left-color: var(--fill-color);\n",
              "    }\n",
              "    20% {\n",
              "      border-color: transparent;\n",
              "      border-left-color: var(--fill-color);\n",
              "      border-top-color: var(--fill-color);\n",
              "    }\n",
              "    30% {\n",
              "      border-color: transparent;\n",
              "      border-left-color: var(--fill-color);\n",
              "      border-top-color: var(--fill-color);\n",
              "      border-right-color: var(--fill-color);\n",
              "    }\n",
              "    40% {\n",
              "      border-color: transparent;\n",
              "      border-right-color: var(--fill-color);\n",
              "      border-top-color: var(--fill-color);\n",
              "    }\n",
              "    60% {\n",
              "      border-color: transparent;\n",
              "      border-right-color: var(--fill-color);\n",
              "    }\n",
              "    80% {\n",
              "      border-color: transparent;\n",
              "      border-right-color: var(--fill-color);\n",
              "      border-bottom-color: var(--fill-color);\n",
              "    }\n",
              "    90% {\n",
              "      border-color: transparent;\n",
              "      border-bottom-color: var(--fill-color);\n",
              "    }\n",
              "  }\n",
              "</style>\n",
              "\n",
              "  <script>\n",
              "    async function quickchart(key) {\n",
              "      const quickchartButtonEl =\n",
              "        document.querySelector('#' + key + ' button');\n",
              "      quickchartButtonEl.disabled = true;  // To prevent multiple clicks.\n",
              "      quickchartButtonEl.classList.add('colab-df-spinner');\n",
              "      try {\n",
              "        const charts = await google.colab.kernel.invokeFunction(\n",
              "            'suggestCharts', [key], {});\n",
              "      } catch (error) {\n",
              "        console.error('Error during call to suggestCharts:', error);\n",
              "      }\n",
              "      quickchartButtonEl.classList.remove('colab-df-spinner');\n",
              "      quickchartButtonEl.classList.add('colab-df-quickchart-complete');\n",
              "    }\n",
              "    (() => {\n",
              "      let quickchartButtonEl =\n",
              "        document.querySelector('#df-ead3fbc0-4edb-4b16-8c5b-0be1791dab8b button');\n",
              "      quickchartButtonEl.style.display =\n",
              "        google.colab.kernel.accessAllowed ? 'block' : 'none';\n",
              "    })();\n",
              "  </script>\n",
              "</div>\n",
              "    </div>\n",
              "  </div>\n"
            ]
          },
          "metadata": {},
          "execution_count": 27
        }
      ],
      "source": [
        "\n",
        "show(bikeshare)"
      ]
    },
    {
      "cell_type": "markdown",
      "id": "possible-initial",
      "metadata": {
        "id": "possible-initial"
      },
      "source": [
        "### Exercise 2\n",
        "\n",
        " Now run the simulation with parameters `p1=0.3`, `p2=0.2`, and `num_steps=60`, and confirm that the number of bikes is never negative.\n",
        "\n",
        "Start with this initial state:"
      ]
    },
    {
      "cell_type": "code",
      "execution_count": 28,
      "id": "eleven-constraint",
      "metadata": {
        "id": "eleven-constraint"
      },
      "outputs": [],
      "source": [
        "bikeshare = State(olin=10, wellesley=2,\n",
        "                  olin_empty=0, wellesley_empty=0)"
      ]
    },
    {
      "cell_type": "code",
      "execution_count": 29,
      "id": "immune-shock",
      "metadata": {
        "tags": [
          "hide-cell"
        ],
        "colab": {
          "base_uri": "https://localhost:8080/",
          "height": 309
        },
        "id": "immune-shock",
        "outputId": "a4f57bef-c978-43cd-affe-32b7ba4eac4e"
      },
      "outputs": [
        {
          "output_type": "display_data",
          "data": {
            "text/plain": [
              "<Figure size 450x300 with 1 Axes>"
            ],
            "image/png": "[encoded data removed]"
          },
          "metadata": {}
        }
      ],
      "source": [
        "run_simulation(bikeshare, 0.3, 0.2, 60)"
      ]
    }
  ],
  "metadata": {
    "celltoolbar": "Tags",
    "kernelspec": {
      "display_name": "Python 3 (ipykernel)",
      "language": "python",
      "name": "python3"
    },
    "language_info": {
      "codemirror_mode": {
        "name": "ipython",
        "version": 3
      },
      "file_extension": ".py",
      "mimetype": "text/x-python",
      "name": "python",
      "nbconvert_exporter": "python",
      "pygments_lexer": "ipython3",
      "version": "3.8.16"
    },
    "colab": {
      "provenance": []
    }
  },
  "nbformat": 4,
  "nbformat_minor": 5
}