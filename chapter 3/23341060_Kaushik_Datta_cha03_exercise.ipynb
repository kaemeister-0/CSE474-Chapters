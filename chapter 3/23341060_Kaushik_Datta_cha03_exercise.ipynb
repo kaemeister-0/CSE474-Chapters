{
  "nbformat": 4,
  "nbformat_minor": 0,
  "metadata": {
    "colab": {
      "provenance": []
    },
    "kernelspec": {
      "name": "python3",
      "display_name": "Python 3"
    },
    "language_info": {
      "name": "python"
    }
  },
  "cells": [
    {
      "cell_type": "code",
      "execution_count": 1,
      "metadata": {
        "colab": {
          "base_uri": "https://localhost:8080/"
        },
        "id": "oaU9iyrLLERP",
        "outputId": "07f95604-4a42-4563-9250-ce1e8a59b4b7"
      },
      "outputs": [
        {
          "output_type": "stream",
          "name": "stdout",
          "text": [
            "Collecting pint\n",
            "  Downloading Pint-0.22-py3-none-any.whl (294 kB)\n",
            "\u001b[?25l     \u001b[90m━━━━━━━━━━━━━━━━━━━━━━━━━━━━━━━━━━━━━━━━\u001b[0m \u001b[32m0.0/294.0 kB\u001b[0m \u001b[31m?\u001b[0m eta \u001b[36m-:--:--\u001b[0m\r\u001b[2K     \u001b[91m━━━━━━━━━━━━\u001b[0m\u001b[91m╸\u001b[0m\u001b[90m━━━━━━━━━━━━━━━━━━━━━━━━━━━\u001b[0m \u001b[32m92.2/294.0 kB\u001b[0m \u001b[31m2.6 MB/s\u001b[0m eta \u001b[36m0:00:01\u001b[0m\r\u001b[2K     \u001b[90m━━━━━━━━━━━━━━━━━━━━━━━━━━━━━━━━━━━━━━━━\u001b[0m \u001b[32m294.0/294.0 kB\u001b[0m \u001b[31m5.1 MB/s\u001b[0m eta \u001b[36m0:00:00\u001b[0m\n",
            "\u001b[?25hRequirement already satisfied: typing-extensions in /usr/local/lib/python3.10/dist-packages (from pint) (4.5.0)\n",
            "Installing collected packages: pint\n",
            "Successfully installed pint-0.22\n"
          ]
        }
      ],
      "source": [
        "# install Pint if necessary\n",
        "\n",
        "try:\n",
        "    import pint\n",
        "except ImportError:\n",
        "    !pip install pint"
      ]
    },
    {
      "cell_type": "code",
      "source": [
        "# download modsim.py if necessary\n",
        "\n",
        "from os.path import basename, exists\n",
        "\n",
        "def download(url):\n",
        "    filename = basename(url)\n",
        "    if not exists(filename):\n",
        "        from urllib.request import urlretrieve\n",
        "        local, _ = urlretrieve(url, filename)\n",
        "        print('Downloaded ' + local)\n",
        "\n",
        "download('https://raw.githubusercontent.com/AllenDowney/' +\n",
        "         'ModSimPy/master/modsim.py')"
      ],
      "metadata": {
        "colab": {
          "base_uri": "https://localhost:8080/"
        },
        "id": "I-4QinHPLzbQ",
        "outputId": "66ee24ca-a2f6-48d6-df77-767e5a2e3fd6"
      },
      "execution_count": 2,
      "outputs": [
        {
          "output_type": "stream",
          "name": "stdout",
          "text": [
            "Downloaded modsim.py\n"
          ]
        }
      ]
    },
    {
      "cell_type": "code",
      "source": [
        "# import functions from modsim\n",
        "\n",
        "from modsim import *\n",
        "import numpy as np"
      ],
      "metadata": {
        "id": "D1u32gF0LzlB"
      },
      "execution_count": 7,
      "outputs": []
    },
    {
      "cell_type": "code",
      "source": [
        "def generate_arrival_probability(hour):\n",
        "    \"\"\"Generate a probability of a student arriving based on the hour of the day.\"\"\"\n",
        "    if 8 <= hour < 10 or 12 <= hour < 14 or 17 <= hour < 19:\n",
        "        return 0.7  # Higher probability during peak hours\n",
        "    else:\n",
        "        return 0.3  # Lower probability during non-peak hours"
      ],
      "metadata": {
        "id": "D8Q5tuVKKIp4"
      },
      "execution_count": 9,
      "outputs": []
    },
    {
      "cell_type": "code",
      "source": [
        "def step(system, hour):\n",
        "    \"\"\"Simulate a time step, considering varying arrival probabilities.\"\"\"\n",
        "    bike_breaks(system)\n",
        "    repair_bikes(system)\n",
        "\n",
        "    arrival_prob = generate_arrival_probability(hour)\n",
        "\n",
        "    if flip(arrival_prob):\n",
        "        check_out_bike(system)\n",
        "\n",
        "    if flip(0.33):\n",
        "        bike_to_olin(system)"
      ],
      "metadata": {
        "id": "TWMYFLDzJkRr"
      },
      "execution_count": 10,
      "outputs": []
    },
    {
      "cell_type": "code",
      "source": [
        "def run_simulation(num_steps):\n",
        "    \"\"\"Run the bike share simulation for a given number of time steps.\"\"\"\n",
        "    system = State(olin=10, wellesley=2, olin_broken=0, wellesley_empty=0)\n",
        "    results = TimeSeries()\n",
        "\n",
        "    for i in range(num_steps):\n",
        "        hour = i // 60  # Assuming each step represents one minute\n",
        "        step(system, hour)\n",
        "        results[i+1] = system.olin\n",
        "\n",
        "    return results\n",
        "\n",
        "# Run the simulation for 240 time steps (4 hours)\n",
        "results = run_simulation(240)"
      ],
      "metadata": {
        "id": "f2N97zkrKO5_"
      },
      "execution_count": 11,
      "outputs": []
    },
    {
      "cell_type": "code",
      "source": [
        "# Plot the results\n",
        "results.plot()\n",
        "\n",
        "# Decorate the plot\n",
        "decorate(title='Olin-Wellesley bikeshare with Varying Arrival Probabilities',\n",
        "         xlabel='Time step',\n",
        "         ylabel='Number of bikes at Olin')"
      ],
      "metadata": {
        "colab": {
          "base_uri": "https://localhost:8080/",
          "height": 309
        },
        "id": "Sk3S9PbVKQir",
        "outputId": "3e3c90ff-fb81-4008-b476-a39902f763cf"
      },
      "execution_count": 12,
      "outputs": [
        {
          "output_type": "display_data",
          "data": {
            "text/plain": [
              "<Figure size 450x300 with 1 Axes>"
            ],
            "image/png": "[encoded data removed]"
          },
          "metadata": {}
        }
      ]
    },
    {
      "cell_type": "code",
      "source": [],
      "metadata": {
        "id": "75bO8TMHJkO2"
      },
      "execution_count": null,
      "outputs": []
    },
    {
      "cell_type": "code",
      "source": [],
      "metadata": {
        "id": "ZOMoAnGfJkLf"
      },
      "execution_count": null,
      "outputs": []
    },
    {
      "cell_type": "code",
      "source": [],
      "metadata": {
        "id": "7Bi8brMCJkIK"
      },
      "execution_count": null,
      "outputs": []
    }
  ]
}