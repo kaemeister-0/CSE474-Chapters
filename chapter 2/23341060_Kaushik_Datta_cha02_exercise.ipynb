{
  "nbformat": 4,
  "nbformat_minor": 0,
  "metadata": {
    "colab": {
      "provenance": []
    },
    "kernelspec": {
      "name": "python3",
      "display_name": "Python 3"
    },
    "language_info": {
      "name": "python"
    }
  },
  "cells": [
    {
      "cell_type": "code",
      "execution_count": 1,
      "metadata": {
        "colab": {
          "base_uri": "https://localhost:8080/"
        },
        "id": "oaU9iyrLLERP",
        "outputId": "07f95604-4a42-4563-9250-ce1e8a59b4b7"
      },
      "outputs": [
        {
          "output_type": "stream",
          "name": "stdout",
          "text": [
            "Collecting pint\n",
            "  Downloading Pint-0.22-py3-none-any.whl (294 kB)\n",
            "\u001b[?25l     \u001b[90m━━━━━━━━━━━━━━━━━━━━━━━━━━━━━━━━━━━━━━━━\u001b[0m \u001b[32m0.0/294.0 kB\u001b[0m \u001b[31m?\u001b[0m eta \u001b[36m-:--:--\u001b[0m\r\u001b[2K     \u001b[91m━━━━━━━━━━━━\u001b[0m\u001b[91m╸\u001b[0m\u001b[90m━━━━━━━━━━━━━━━━━━━━━━━━━━━\u001b[0m \u001b[32m92.2/294.0 kB\u001b[0m \u001b[31m2.6 MB/s\u001b[0m eta \u001b[36m0:00:01\u001b[0m\r\u001b[2K     \u001b[90m━━━━━━━━━━━━━━━━━━━━━━━━━━━━━━━━━━━━━━━━\u001b[0m \u001b[32m294.0/294.0 kB\u001b[0m \u001b[31m5.1 MB/s\u001b[0m eta \u001b[36m0:00:00\u001b[0m\n",
            "\u001b[?25hRequirement already satisfied: typing-extensions in /usr/local/lib/python3.10/dist-packages (from pint) (4.5.0)\n",
            "Installing collected packages: pint\n",
            "Successfully installed pint-0.22\n"
          ]
        }
      ],
      "source": [
        "# install Pint if necessary\n",
        "\n",
        "try:\n",
        "    import pint\n",
        "except ImportError:\n",
        "    !pip install pint"
      ]
    },
    {
      "cell_type": "code",
      "source": [
        "# download modsim.py if necessary\n",
        "\n",
        "from os.path import basename, exists\n",
        "\n",
        "def download(url):\n",
        "    filename = basename(url)\n",
        "    if not exists(filename):\n",
        "        from urllib.request import urlretrieve\n",
        "        local, _ = urlretrieve(url, filename)\n",
        "        print('Downloaded ' + local)\n",
        "\n",
        "download('https://raw.githubusercontent.com/AllenDowney/' +\n",
        "         'ModSimPy/master/modsim.py')"
      ],
      "metadata": {
        "colab": {
          "base_uri": "https://localhost:8080/"
        },
        "id": "I-4QinHPLzbQ",
        "outputId": "66ee24ca-a2f6-48d6-df77-767e5a2e3fd6"
      },
      "execution_count": 2,
      "outputs": [
        {
          "output_type": "stream",
          "name": "stdout",
          "text": [
            "Downloaded modsim.py\n"
          ]
        }
      ]
    },
    {
      "cell_type": "code",
      "source": [
        "# import functions from modsim\n",
        "\n",
        "from modsim import *"
      ],
      "metadata": {
        "id": "D1u32gF0LzlB"
      },
      "execution_count": 3,
      "outputs": []
    },
    {
      "cell_type": "markdown",
      "source": [
        "More Than One State Object"
      ],
      "metadata": {
        "id": "PTxPBE8DL6b2"
      }
    },
    {
      "cell_type": "code",
      "source": [
        "from modsim import State, TimeSeries, flip, decorate\n",
        "\n",
        "def bike_to_wellesley(system):\n",
        "    \"\"\"Move a bike from Olin to Wellesley.\"\"\"\n",
        "    system.olin -= 1\n",
        "    system.wellesley += 1\n",
        "\n",
        "def bike_to_olin(system):\n",
        "    \"\"\"Move a bike from Wellesley to Olin.\"\"\"\n",
        "    system.wellesley -= 1\n",
        "    system.olin += 1\n",
        "\n",
        "def bike_breaks(system):\n",
        "    \"\"\"Simulate a bike breakdown.\"\"\"\n",
        "    if flip(0.1):  # Probability of a bike breaking down\n",
        "        system.olin_broken += 1\n",
        "\n",
        "def repair_bikes(system):\n",
        "    \"\"\"Simulate bike repairs.\"\"\"\n",
        "    if flip(0.2):  # Probability of a bike being repaired\n",
        "        system.olin_broken -= 1\n",
        "\n",
        "def check_out_bike(system):\n",
        "    \"\"\"Simulate a student checking out a bike.\"\"\"\n",
        "    if system.olin > 0 and not system.olin_broken:\n",
        "        bike_to_wellesley(system)\n",
        "        return True  # Bike successfully checked out\n",
        "    else:\n",
        "        return False  # Bike not available or broken\n",
        "\n",
        "def step(system):\n",
        "    \"\"\"Simulate a time step.\"\"\"\n",
        "    bike_breaks(system)\n",
        "    repair_bikes(system)\n",
        "\n",
        "    if flip(0.5):\n",
        "        check_out_bike(system)\n",
        "\n",
        "    if flip(0.33):\n",
        "        bike_to_olin(system)\n",
        "\n",
        "\n",
        "\n"
      ],
      "metadata": {
        "id": "nr6xNlGCLzoS"
      },
      "execution_count": 4,
      "outputs": []
    },
    {
      "cell_type": "code",
      "source": [
        "def run_simulation(num_steps):\n",
        "    \"\"\"Run the bike share simulation for a given number of time steps.\"\"\"\n",
        "    system = State(olin=10, wellesley=2, olin_broken=0)\n",
        "    results = TimeSeries()\n",
        "\n",
        "    for i in range(num_steps):\n",
        "        step(system)\n",
        "        results[i+1] = system.olin\n",
        "\n",
        "    return results"
      ],
      "metadata": {
        "id": "V1aRqO-FGufx"
      },
      "execution_count": 5,
      "outputs": []
    },
    {
      "cell_type": "code",
      "source": [
        "# Run the simulation for 10 time steps\n",
        "results = run_simulation(10)\n",
        "\n",
        "# Plot the results\n",
        "results.plot()\n",
        "\n",
        "# Decorate the plot\n",
        "decorate(title='Olin-Wellesley bikeshare with Breakdowns and Repairs',\n",
        "         xlabel='Time step',\n",
        "         ylabel='Number of bikes at Olin')\n"
      ],
      "metadata": {
        "id": "9TVeqE6sLzrh",
        "colab": {
          "base_uri": "https://localhost:8080/",
          "height": 309
        },
        "outputId": "5b697350-a7cf-4989-b36a-e4c5d723ef52"
      },
      "execution_count": 6,
      "outputs": [
        {
          "output_type": "display_data",
          "data": {
            "text/plain": [
              "<Figure size 450x300 with 1 Axes>"
            ],
            "image/png": "[encoded data removed]"
          },
          "metadata": {}
        }
      ]
    }
  ]
}