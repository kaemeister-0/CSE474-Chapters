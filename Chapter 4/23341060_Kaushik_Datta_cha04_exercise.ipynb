{
  "nbformat": 4,
  "nbformat_minor": 0,
  "metadata": {
    "colab": {
      "provenance": []
    },
    "kernelspec": {
      "name": "python3",
      "display_name": "Python 3"
    },
    "language_info": {
      "name": "python"
    }
  },
  "cells": [
    {
      "cell_type": "code",
      "execution_count": 1,
      "metadata": {
        "colab": {
          "base_uri": "https://localhost:8080/"
        },
        "id": "oaU9iyrLLERP",
        "outputId": "07f95604-4a42-4563-9250-ce1e8a59b4b7"
      },
      "outputs": [
        {
          "output_type": "stream",
          "name": "stdout",
          "text": [
            "Collecting pint\n",
            "  Downloading Pint-0.22-py3-none-any.whl (294 kB)\n",
            "\u001b[?25l     \u001b[90m━━━━━━━━━━━━━━━━━━━━━━━━━━━━━━━━━━━━━━━━\u001b[0m \u001b[32m0.0/294.0 kB\u001b[0m \u001b[31m?\u001b[0m eta \u001b[36m-:--:--\u001b[0m\r\u001b[2K     \u001b[91m━━━━━━━━━━━━\u001b[0m\u001b[91m╸\u001b[0m\u001b[90m━━━━━━━━━━━━━━━━━━━━━━━━━━━\u001b[0m \u001b[32m92.2/294.0 kB\u001b[0m \u001b[31m2.6 MB/s\u001b[0m eta \u001b[36m0:00:01\u001b[0m\r\u001b[2K     \u001b[90m━━━━━━━━━━━━━━━━━━━━━━━━━━━━━━━━━━━━━━━━\u001b[0m \u001b[32m294.0/294.0 kB\u001b[0m \u001b[31m5.1 MB/s\u001b[0m eta \u001b[36m0:00:00\u001b[0m\n",
            "\u001b[?25hRequirement already satisfied: typing-extensions in /usr/local/lib/python3.10/dist-packages (from pint) (4.5.0)\n",
            "Installing collected packages: pint\n",
            "Successfully installed pint-0.22\n"
          ]
        }
      ],
      "source": [
        "# install Pint if necessary\n",
        "\n",
        "try:\n",
        "    import pint\n",
        "except ImportError:\n",
        "    !pip install pint"
      ]
    },
    {
      "cell_type": "code",
      "source": [
        "# download modsim.py if necessary\n",
        "\n",
        "from os.path import basename, exists\n",
        "\n",
        "def download(url):\n",
        "    filename = basename(url)\n",
        "    if not exists(filename):\n",
        "        from urllib.request import urlretrieve\n",
        "        local, _ = urlretrieve(url, filename)\n",
        "        print('Downloaded ' + local)\n",
        "\n",
        "download('https://raw.githubusercontent.com/AllenDowney/' +\n",
        "         'ModSimPy/master/modsim.py')"
      ],
      "metadata": {
        "colab": {
          "base_uri": "https://localhost:8080/"
        },
        "id": "I-4QinHPLzbQ",
        "outputId": "66ee24ca-a2f6-48d6-df77-767e5a2e3fd6"
      },
      "execution_count": 2,
      "outputs": [
        {
          "output_type": "stream",
          "name": "stdout",
          "text": [
            "Downloaded modsim.py\n"
          ]
        }
      ]
    },
    {
      "cell_type": "code",
      "source": [
        "# import functions from modsim\n",
        "\n",
        "from modsim import *\n",
        "import numpy as np"
      ],
      "metadata": {
        "id": "D1u32gF0LzlB"
      },
      "execution_count": 7,
      "outputs": []
    },
    {
      "cell_type": "code",
      "source": [
        "import matplotlib.pyplot as plt\n",
        "from numpy import linspace\n",
        "from modsim import State, TimeSeries, decorate\n",
        "\n",
        "def run_population_simulation(growth_rate, num_steps):\n",
        "    state = State(population=100)\n",
        "    results = TimeSeries()\n",
        "\n",
        "    for i in range(num_steps):\n",
        "        state.population *= (1 + growth_rate)\n",
        "        results[i] = state.population\n",
        "\n",
        "    return results\n",
        "\n",
        "# Sweep through different growth rates\n",
        "growth_rates = linspace(0.01, 0.1, 10)\n",
        "num_steps = 100\n",
        "\n",
        "# Create a SweepSeries to store results\n",
        "population_sweep = SweepSeries()\n",
        "\n",
        "# Run simulations for different growth rates\n",
        "for growth_rate in growth_rates:\n",
        "    final_population = run_population_simulation(growth_rate, num_steps)\n",
        "    population_sweep[growth_rate] = final_population.iloc[-1]\n",
        "\n",
        "# Plot the results\n",
        "population_sweep.plot(label='Population Growth', color='C2')\n",
        "\n",
        "# Decorate the plot\n",
        "decorate(title='Population Growth Simulation',\n",
        "         xlabel='Growth Rate',\n",
        "         ylabel='Final Population Size')\n",
        "\n",
        "# Show the plot\n",
        "plt.show()\n"
      ],
      "metadata": {
        "colab": {
          "base_uri": "https://localhost:8080/",
          "height": 309
        },
        "id": "75bO8TMHJkO2",
        "outputId": "07c6c12b-e48e-455c-eabf-e1f69cf3f666"
      },
      "execution_count": 15,
      "outputs": [
        {
          "output_type": "display_data",
          "data": {
            "text/plain": [
              "<Figure size 450x300 with 1 Axes>"
            ],
            "image/png": "[encoded data removed]"
          },
          "metadata": {}
        }
      ]
    },
    {
      "cell_type": "code",
      "source": [],
      "metadata": {
        "id": "ZOMoAnGfJkLf"
      },
      "execution_count": null,
      "outputs": []
    },
    {
      "cell_type": "code",
      "source": [],
      "metadata": {
        "id": "7Bi8brMCJkIK"
      },
      "execution_count": null,
      "outputs": []
    }
  ]
}