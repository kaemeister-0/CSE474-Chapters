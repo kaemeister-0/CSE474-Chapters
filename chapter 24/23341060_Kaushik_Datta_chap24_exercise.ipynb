{
  "nbformat": 4,
  "nbformat_minor": 0,
  "metadata": {
    "colab": {
      "provenance": []
    },
    "kernelspec": {
      "name": "python3",
      "display_name": "Python 3"
    },
    "language_info": {
      "name": "python"
    }
  },
  "cells": [
    {
      "cell_type": "code",
      "execution_count": 1,
      "metadata": {
        "colab": {
          "base_uri": "https://localhost:8080/"
        },
        "id": "7fgthKT8Hl7d",
        "outputId": "fcfedf32-272d-4cac-9e7e-57dd0c22f792"
      },
      "outputs": [
        {
          "output_type": "stream",
          "name": "stdout",
          "text": [
            "Collecting simpy\n",
            "  Downloading simpy-4.1.1-py3-none-any.whl (27 kB)\n",
            "Installing collected packages: simpy\n",
            "Successfully installed simpy-4.1.1\n"
          ]
        }
      ],
      "source": [
        "pip install simpy"
      ]
    },
    {
      "cell_type": "code",
      "source": [
        "import numpy as np\n",
        "import matplotlib.pyplot as plt\n",
        "from matplotlib.animation import FuncAnimation"
      ],
      "metadata": {
        "id": "shCwa9KCHrVj"
      },
      "execution_count": 2,
      "outputs": []
    },
    {
      "cell_type": "code",
      "source": [
        "def rotate_object(initial_angle, angular_velocity, time_steps, time_interval):\n",
        "    angles = [initial_angle]\n",
        "\n",
        "    for _ in range(time_steps - 1):\n",
        "        new_angle = angles[-1] + angular_velocity * time_interval\n",
        "        angles.append(new_angle)\n",
        "\n",
        "    return angles\n",
        "\n",
        "def plot_rotation_simulation(angles):\n",
        "    fig, ax = plt.subplots()\n",
        "    ax.set_aspect('equal', adjustable='datalim')\n",
        "    ax.set_xlim(-1, 1)\n",
        "    ax.set_ylim(-1, 1)\n",
        "    ax.set_xlabel('X')\n",
        "    ax.set_ylabel('Y')\n",
        "\n",
        "    line, = ax.plot([], [], 'o-', lw=2)\n",
        "\n",
        "    def update(frame):\n",
        "        x = np.cos(angles[frame])\n",
        "        y = np.sin(angles[frame])\n",
        "        line.set_data([0, x], [0, y])\n",
        "        return line,\n",
        "\n",
        "    ani = FuncAnimation(fig, update, frames=len(angles), interval=100, blit=True)\n",
        "    plt.show()\n",
        "\n",
        "def main():\n",
        "    initial_angle = 0.0  # Initial angle in radians\n",
        "    angular_velocity = np.pi / 30  # Angular velocity in radians per second\n",
        "    time_steps = 100  # Number of time steps\n",
        "    time_interval = 0.1  # Time interval between steps\n",
        "\n",
        "    angles = rotate_object(initial_angle, angular_velocity, time_steps, time_interval)\n",
        "\n",
        "    plot_rotation_simulation(angles)\n",
        "\n",
        "if __name__ == '__main__':\n",
        "    main()"
      ],
      "metadata": {
        "colab": {
          "base_uri": "https://localhost:8080/",
          "height": 449
        },
        "id": "dqEojRzIH1f0",
        "outputId": "6ff7b9a7-3609-4b29-cd73-0c8a2f7fca07"
      },
      "execution_count": 3,
      "outputs": [
        {
          "output_type": "display_data",
          "data": {
            "text/plain": [
              "<Figure size 640x480 with 1 Axes>"
            ],
            "image/png": "[encoded data removed]"
          },
          "metadata": {}
        }
      ]
    }
  ]
}